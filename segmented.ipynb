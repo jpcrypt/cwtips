{
 "cells": [
  {
   "cell_type": "markdown",
   "id": "d9ef0d6e-0f43-492b-b218-28059c8e40c4",
   "metadata": {},
   "source": [
    "# How to use segmented capture?\n",
    "\n",
    "Segmented capture is a Husky-only feature which allows you to \"do more with less\" (sample storage).\n",
    "\n",
    "When the duration of the target operation exceeds Husky's sample storage capacity and you cannot or do not want to use [streaming](stream.ipynb), a possible solution is to capture only the portions of the target operation that you care about.\n",
    "\n",
    "This is covered at a high level in the [01 - Introduction to ChipWhisperer-Husky.ipynb notebook](https://github.com/newaetech/chipwhisperer-jupyter/blob/main/demos/husky/01%20-%20Introduction%20to%20ChipWhisperer-Husky.ipynb); here we put it into practice with a simple example."
   ]
  },
  {
   "cell_type": "markdown",
   "id": "02db9db6-6b1a-4286-ba45-2ad13b48e231",
   "metadata": {},
   "source": [
    "**Supported Capture Hardware:**\\\n",
    "❌ CW-Nano\\\n",
    "❌ CW-Lite\\\n",
    "❌ CW-Pro\\\n",
    "✅ CW-Husky\n",
    "\n",
    "**Required ChipWhisperer software installation:**\\\n",
    "✅ any release"
   ]
  },
  {
   "cell_type": "code",
   "execution_count": null,
   "id": "4facc6d7-e51f-4c73-97dd-cbed747b85ed",
   "metadata": {},
   "outputs": [],
   "source": [
    "%run 'connect.ipynb'"
   ]
  },
  {
   "cell_type": "markdown",
   "id": "cf3b0068-2515-4f4c-9ee3-687929917e80",
   "metadata": {},
   "source": [
    "In this example we will use `simpleserial-aes` firmware."
   ]
  },
  {
   "cell_type": "code",
   "execution_count": null,
   "id": "56b9528f-c2bd-4cdc-bac2-442e911c7523",
   "metadata": {},
   "outputs": [],
   "source": [
    "scope.adc.samples = 32000\n",
    "trace = cw.capture_trace(scope, target, bytearray(16), bytearray(16))\n",
    "oplen = scope.adc.trig_count\n",
    "print('Operation length: %d cycles' % oplen)"
   ]
  },
  {
   "cell_type": "markdown",
   "id": "045488d1-414a-453f-aaa8-ede6a90c431a",
   "metadata": {},
   "source": [
    "Here Husky can capture the full target operation. But what if we want more samples per clock cycle?\n",
    "\n",
    "Here the sampling rate was 29.48 MS/s; Husky supports up to 200 MS/s. Let's increase `scope.clock.adc_mul` to 26 samples per clock cycle:"
   ]
  },
  {
   "cell_type": "code",
   "execution_count": null,
   "id": "1ebd8907-a8b9-481b-aa33-55f4da8349d4",
   "metadata": {},
   "outputs": [],
   "source": [
    "scope.clock.adc_mul = 26\n",
    "print('ADC clock frequency: %d MHz' % int(scope.clock.adc_freq))"
   ]
  },
  {
   "cell_type": "markdown",
   "id": "35cb3bf1-dcc3-43bb-bc49-5d7e28809aa0",
   "metadata": {},
   "source": [
    "This will increase the operation length to `oplen*26/4` cycles, which is more than what Husky can store:"
   ]
  },
  {
   "cell_type": "code",
   "execution_count": null,
   "id": "35880820-e37e-4fa0-9915-52488c7f617d",
   "metadata": {},
   "outputs": [],
   "source": [
    "oplen*26//4"
   ]
  },
  {
   "cell_type": "markdown",
   "id": "57eaebf3-c0b8-4c83-964e-ca2712ceff26",
   "metadata": {},
   "source": [
    "Because we are using a very high ADC sampling rate, streaming is not an option.\n",
    "\n",
    "Let's imagine that we are only interested in the first 1000 samples of each AES round. Visual inspection of our 29.48 MS/s capture shows a clear periodicity from the AES rounds; this shows the first few rounds:"
   ]
  },
  {
   "cell_type": "code",
   "execution_count": null,
   "id": "82f739e2-151d-45ee-8ac6-52ad0833c32a",
   "metadata": {},
   "outputs": [],
   "source": [
    "cw.plot(trace.wave[:15000])"
   ]
  },
  {
   "cell_type": "markdown",
   "id": "887aa682-39d5-4aaf-96da-8bace1ad4450",
   "metadata": {},
   "source": [
    "From the waveform, we can confirm that the rounds are equally-spaced, and we can choose our capture parameters accordingly:"
   ]
  },
  {
   "cell_type": "code",
   "execution_count": null,
   "id": "843f8f99-952c-4245-94f3-c885fffb6797",
   "metadata": {},
   "outputs": [],
   "source": [
    "scope.adc.samples = 1000\n",
    "scope.adc.segment_cycles = 20202\n",
    "scope.adc.segment_cycle_counter_en = True\n",
    "scope.adc.segments = 10\n",
    "scope.adc.offset = 17654"
   ]
  },
  {
   "cell_type": "markdown",
   "id": "1e5d5058-1f9b-4480-a159-7d66f543787e",
   "metadata": {},
   "source": [
    "With these settings, Husky will capture 1000 samples every 20202 cycles, 10 times, for a total of 10000 samples."
   ]
  },
  {
   "cell_type": "code",
   "execution_count": null,
   "id": "57031848-9dbf-4748-98b1-5585c4e08719",
   "metadata": {},
   "outputs": [],
   "source": [
    "scope.gain.db = 22\n",
    "fasttrace = cw.capture_trace(scope, target, bytearray(16), bytearray(16))\n",
    "cw.plot(fasttrace.wave)"
   ]
  },
  {
   "cell_type": "markdown",
   "id": "498db11c-17c3-4257-95e7-e9becd19c137",
   "metadata": {},
   "source": [
    "Voilà: we can still see our AES rounds, now at 26 samples per clock!\n",
    "\n",
    "This is a toy example that's probably not useful for an attack (AES attacks typically use leakage from either the first or the last round only).\n",
    "\n",
    "For examples of segmented capture that *are* useful for attacks, look at our [sca204](https://github.com/newaetech/chipwhisperer-jupyter/tree/main/courses/sca204) and [sca205](https://github.com/newaetech/chipwhisperer-jupyter/tree/main/courses/sca205) ECC attack notebooks."
   ]
  },
  {
   "cell_type": "code",
   "execution_count": null,
   "id": "ea9d06c2-b813-4b05-9fc2-5f379bbd68d2",
   "metadata": {},
   "outputs": [],
   "source": [
    "assert not scope.adc.errors, scope.adc.errors"
   ]
  },
  {
   "cell_type": "code",
   "execution_count": null,
   "id": "488c15b9-32a1-4deb-9904-50f748a8f861",
   "metadata": {},
   "outputs": [],
   "source": []
  }
 ],
 "metadata": {
  "kernelspec": {
   "display_name": "Python (venv39)",
   "language": "python",
   "name": "python3"
  },
  "language_info": {
   "codemirror_mode": {
    "name": "ipython",
    "version": 3
   },
   "file_extension": ".py",
   "mimetype": "text/x-python",
   "name": "python",
   "nbconvert_exporter": "python",
   "pygments_lexer": "ipython3",
   "version": "3.9.7"
  }
 },
 "nbformat": 4,
 "nbformat_minor": 5
}
