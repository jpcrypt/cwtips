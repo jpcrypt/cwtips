{
 "cells": [
  {
   "cell_type": "code",
   "execution_count": 1,
   "id": "a8dd155f-d76a-4661-94d6-c84016b88a2e",
   "metadata": {},
   "outputs": [],
   "source": [
    "%run 'connect.ipynb'\n",
    "cw.scope_logger.setLevel(cw.logging.WARNING) # turn warnings back on"
   ]
  },
  {
   "cell_type": "code",
   "execution_count": 2,
   "id": "3507ff1b-7482-483d-83c1-4c4d960d491f",
   "metadata": {},
   "outputs": [],
   "source": [
    "scope.trigger.sequencer_enabled = False"
   ]
  },
  {
   "cell_type": "code",
   "execution_count": 3,
   "id": "fbdac4f0-756e-4c93-b2be-7cc0a301b4a8",
   "metadata": {},
   "outputs": [
    {
     "name": "stdout",
     "output_type": "stream",
     "text": [
      "scope.adc.clip_errors_disabled           changed from True                      to False                    \n",
      "scope.adc.lo_gain_errors_disabled        changed from True                      to False                    \n"
     ]
    }
   ],
   "source": [
    "scope.default_setup()"
   ]
  },
  {
   "cell_type": "code",
   "execution_count": 25,
   "id": "c3655406-b1e6-4e11-88c4-accf2cadf7a0",
   "metadata": {},
   "outputs": [],
   "source": [
    "trace = cw.capture_trace(scope, target, bytearray(16), bytearray(16))"
   ]
  },
  {
   "cell_type": "code",
   "execution_count": 26,
   "id": "25312118-0b92-418c-bc31-b567baaf1ebb",
   "metadata": {},
   "outputs": [],
   "source": [
    "cycles = scope.adc.trig_count\n",
    "#cycles = 31864"
   ]
  },
  {
   "cell_type": "code",
   "execution_count": 27,
   "id": "2e7460bf-57f6-463a-b387-fe56c0d3b90a",
   "metadata": {},
   "outputs": [
    {
     "data": {
      "text/plain": [
       "31864"
      ]
     },
     "execution_count": 27,
     "metadata": {},
     "output_type": "execute_result"
    }
   ],
   "source": [
    "cycles"
   ]
  },
  {
   "cell_type": "code",
   "execution_count": 62,
   "id": "1b11cb4e-c87c-472d-a9fe-52ca315a2ce7",
   "metadata": {},
   "outputs": [
    {
     "data": {
      "text/plain": [
       "'r7DF76B0C1AB899B33E42F047B91B546F\\n'"
      ]
     },
     "execution_count": 62,
     "metadata": {},
     "output_type": "execute_result"
    }
   ],
   "source": [
    "target.simpleserial_last_read"
   ]
  },
  {
   "cell_type": "code",
   "execution_count": 64,
   "id": "57ca7607-2adc-4131-a644-5778d65f4705",
   "metadata": {},
   "outputs": [
    {
     "data": {
      "text/plain": [
       "'r7DF'"
      ]
     },
     "execution_count": 64,
     "metadata": {},
     "output_type": "execute_result"
    }
   ],
   "source": [
    "target.simpleserial_last_read[:4]"
   ]
  },
  {
   "cell_type": "code",
   "execution_count": null,
   "id": "78ce84f0-93b9-499e-bcda-3a703d267c96",
   "metadata": {},
   "outputs": [],
   "source": []
  },
  {
   "cell_type": "code",
   "execution_count": 29,
   "id": "584ac152-13d0-4f71-8b3c-7ed07922b106",
   "metadata": {},
   "outputs": [],
   "source": [
    "scope.trigger.sequencer_enabled = True\n",
    "scope.trigger.num_triggers = 2\n",
    "\n",
    "scope.trigger.module[0] = 'basic'\n",
    "scope.trigger.triggers[0] = 'tio4'\n",
    "\n",
    "scope.trigger.module[1] = 'UART'\n",
    "scope.trigger.triggers[1] = 'tio1'"
   ]
  },
  {
   "cell_type": "code",
   "execution_count": 30,
   "id": "519a0845-0271-40e5-acb1-eb22aba6cae5",
   "metadata": {},
   "outputs": [],
   "source": [
    "scope.UARTTrigger.enabled = True\n",
    "scope.UARTTrigger.baud = 38400\n",
    "scope.UARTTrigger.set_pattern_match(0, 'r7DF')\n",
    "scope.UARTTrigger.trigger_source = 0\n",
    "scope.UARTTrigger.rules_enabled = [0]"
   ]
  },
  {
   "cell_type": "code",
   "execution_count": 39,
   "id": "45b11bf8-be88-4a83-988a-b146439c4ea6",
   "metadata": {},
   "outputs": [
    {
     "data": {
      "text/plain": [
       "sequencer_enabled      = True\n",
       "max_sequenced_triggers = 2\n",
       "num_triggers           = 2\n",
       "sad_always_active      = False\n",
       "module                 = SequenceTriggerList(['basic', 'UART'])\n",
       "triggers               = SequenceTriggerList(['tio4', 'tio1'])\n",
       "window_start           = SequenceTriggerList([0])\n",
       "window_end             = SequenceTriggerList([0])\n",
       "sequence trigger #0 = \n",
       "    module   = basic\n",
       "    triggers = tio4\n",
       "sequence trigger #1 = \n",
       "    module       = UART\n",
       "    triggers     = tio1\n",
       "    window_start = 0\n",
       "    window_end   = 0"
      ]
     },
     "execution_count": 39,
     "metadata": {},
     "output_type": "execute_result"
    }
   ],
   "source": [
    "scope.trigger"
   ]
  },
  {
   "cell_type": "code",
   "execution_count": 46,
   "id": "e44243f4-ac9f-4163-a167-7fb6e2d1db9e",
   "metadata": {},
   "outputs": [],
   "source": [
    "trace = cw.capture_trace(scope, target, bytearray(16), bytearray(16))"
   ]
  },
  {
   "cell_type": "code",
   "execution_count": 47,
   "id": "a9b73e00-edf0-4398-96e2-087e8c4a8201",
   "metadata": {},
   "outputs": [
    {
     "data": {
      "text/plain": [
       "31864"
      ]
     },
     "execution_count": 47,
     "metadata": {},
     "output_type": "execute_result"
    }
   ],
   "source": [
    "cycles"
   ]
  },
  {
   "cell_type": "code",
   "execution_count": 48,
   "id": "03f46f16-6626-47f3-93ce-545d104834a6",
   "metadata": {},
   "outputs": [
    {
     "name": "stderr",
     "output_type": "stream",
     "text": [
      "(ChipWhisperer Scope WARNING|File _OpenADCInterface.py:732) Timeout in OpenADC capture(), no trigger seen! Trigger forced, data is invalid. Status: 13\n",
      "(ChipWhisperer Scope WARNING|File _OpenADCInterface.py:732) Timeout in OpenADC capture(), no trigger seen! Trigger forced, data is invalid. Status: 12\n",
      "(ChipWhisperer Scope WARNING|File __init__.py:517) Timeout happened during capture\n"
     ]
    }
   ],
   "source": [
    "scope.trigger.window_start[0] = cycles*2\n",
    "scope.trigger.window_end[0] = 0\n",
    "failtrace = cw.capture_trace(scope, target, bytearray(16), bytearray(16))"
   ]
  },
  {
   "cell_type": "code",
   "execution_count": 16,
   "id": "c6054fd2-f6b3-4704-b2fb-894bf593fe27",
   "metadata": {},
   "outputs": [
    {
     "data": {
      "text/plain": [
       "True"
      ]
     },
     "execution_count": 16,
     "metadata": {},
     "output_type": "execute_result"
    }
   ],
   "source": [
    "failtrace is None"
   ]
  },
  {
   "cell_type": "code",
   "execution_count": 50,
   "id": "a0172239-5a1e-435f-95b1-2367f74684c1",
   "metadata": {},
   "outputs": [],
   "source": [
    "scope.trigger.window_start[0] = cycles - 1000\n",
    "scope.trigger.window_end[0] = 0\n",
    "goodtrace = cw.capture_trace(scope, target, bytearray(16), bytearray(16))"
   ]
  },
  {
   "cell_type": "code",
   "execution_count": 61,
   "id": "20e8b738-b339-4770-84b8-8b1d4b56b993",
   "metadata": {},
   "outputs": [
    {
     "name": "stderr",
     "output_type": "stream",
     "text": [
      "(ChipWhisperer Scope WARNING|File _OpenADCInterface.py:732) Timeout in OpenADC capture(), no trigger seen! Trigger forced, data is invalid. Status: 13\n",
      "(ChipWhisperer Scope WARNING|File _OpenADCInterface.py:732) Timeout in OpenADC capture(), no trigger seen! Trigger forced, data is invalid. Status: 12\n",
      "(ChipWhisperer Scope WARNING|File __init__.py:517) Timeout happened during capture\n"
     ]
    }
   ],
   "source": [
    "scope.trigger.window_start[0] = 0\n",
    "scope.trigger.window_end[0] = cycles\n",
    "goodtrace = cw.capture_trace(scope, target, bytearray(16), bytearray(16))"
   ]
  },
  {
   "cell_type": "code",
   "execution_count": 60,
   "id": "8f58c9fb-4da8-4ad4-9f7f-da4af423ab86",
   "metadata": {},
   "outputs": [],
   "source": [
    "scope.trigger.window_start[0] = cycles - 1000\n",
    "scope.trigger.window_end[0] = cycles + 32000\n",
    "goodtrace = cw.capture_trace(scope, target, bytearray(16), bytearray(16))"
   ]
  },
  {
   "cell_type": "code",
   "execution_count": 40,
   "id": "39c13353-9f3f-4bda-a972-59c39ddd4cd1",
   "metadata": {},
   "outputs": [
    {
     "data": {
      "text/plain": [
       "sequencer_enabled      = True\n",
       "max_sequenced_triggers = 2\n",
       "num_triggers           = 2\n",
       "sad_always_active      = False\n",
       "module                 = SequenceTriggerList(['basic', 'UART'])\n",
       "triggers               = SequenceTriggerList(['tio4', 'tio1'])\n",
       "window_start           = SequenceTriggerList([0])\n",
       "window_end             = SequenceTriggerList([0])\n",
       "sequence trigger #0 = \n",
       "    module   = basic\n",
       "    triggers = tio4\n",
       "sequence trigger #1 = \n",
       "    module       = UART\n",
       "    triggers     = tio1\n",
       "    window_start = 0\n",
       "    window_end   = 0"
      ]
     },
     "execution_count": 40,
     "metadata": {},
     "output_type": "execute_result"
    }
   ],
   "source": [
    "scope.trigger"
   ]
  },
  {
   "cell_type": "code",
   "execution_count": 51,
   "id": "506f0aa7-df95-4308-927e-db0741443f65",
   "metadata": {},
   "outputs": [
    {
     "data": {
      "text/plain": [
       "sam_errors      = False\n",
       "sam_led_setting = Default\n",
       "XADC errors     = False\n",
       "ADC errors      = ADC clipped, \n",
       "extclk error    = False\n",
       "trace errors    = False"
      ]
     },
     "execution_count": 51,
     "metadata": {},
     "output_type": "execute_result"
    }
   ],
   "source": [
    "scope.errors"
   ]
  },
  {
   "cell_type": "markdown",
   "id": "9320c3ba-25bb-460c-996f-dd21e0dc69a5",
   "metadata": {},
   "source": [
    "### FROM TEST_HUSKY_DEV.py:"
   ]
  },
  {
   "cell_type": "code",
   "execution_count": 4,
   "id": "8e6351b1-0bfd-45f7-a71c-c2bd67862047",
   "metadata": {},
   "outputs": [],
   "source": [
    "scope.default_setup(verbose=False)\n",
    "scope.adc.timeout = 1\n",
    "trace = cw.capture_trace(scope, target, bytearray(16), bytearray(16))\n",
    "cycles = scope.adc.trig_count\n",
    "resp = target.simpleserial_last_read\n",
    "reps = 1"
   ]
  },
  {
   "cell_type": "code",
   "execution_count": 15,
   "id": "c1447887-9646-47cf-94d4-562206eddd15",
   "metadata": {},
   "outputs": [],
   "source": [
    "scope.trigger.sequencer_enabled = True\n",
    "scope.trigger.num_triggers = 2\n",
    "scope.trigger.module[0] = 'basic'\n",
    "scope.trigger.triggers[0] = 'tio4'\n",
    "scope.trigger.module[1] = 'UART'\n",
    "scope.trigger.triggers[1] = 'tio1'\n",
    "scope.UARTTrigger.enabled = True\n",
    "scope.UARTTrigger.baud = 38400\n",
    "scope.UARTTrigger.set_pattern_match(0, resp[:4])\n",
    "scope.UARTTrigger.trigger_source = 0\n",
    "scope.UARTTrigger.rules_enabled = [0]"
   ]
  },
  {
   "cell_type": "code",
   "execution_count": 19,
   "id": "57717f7e-9cda-4148-b32b-eb2499660072",
   "metadata": {},
   "outputs": [],
   "source": [
    "# first capture with no window:\n",
    "scope.trigger.window_start[0] = 0\n",
    "scope.trigger.window_end[0] = 0\n",
    "trace = cw.capture_trace(scope, target, bytearray(16), bytearray(16))\n",
    "assert trace is not None, 'Capture failed with no window (rep %d)' % i"
   ]
  },
  {
   "cell_type": "code",
   "execution_count": 20,
   "id": "62e79721-6a1d-4a53-a276-78d2a6c1479c",
   "metadata": {},
   "outputs": [],
   "source": [
    "# second capture with window:\n",
    "scope.trigger.window_start[0] = cycles - 1000\n",
    "scope.trigger.window_end[0] = cycles + 32000\n",
    "trace = cw.capture_trace(scope, target, bytearray(16), bytearray(16))\n",
    "assert trace is not None, 'Capture failed with window (rep %d)' % i"
   ]
  },
  {
   "cell_type": "code",
   "execution_count": 21,
   "id": "c5321458-f514-4873-ac81-bb7868c338a5",
   "metadata": {},
   "outputs": [
    {
     "name": "stderr",
     "output_type": "stream",
     "text": [
      "(ChipWhisperer Scope WARNING|File _OpenADCInterface.py:732) Timeout in OpenADC capture(), no trigger seen! Trigger forced, data is invalid. Status: 13\n",
      "(ChipWhisperer Scope WARNING|File _OpenADCInterface.py:732) Timeout in OpenADC capture(), no trigger seen! Trigger forced, data is invalid. Status: 12\n",
      "(ChipWhisperer Scope WARNING|File __init__.py:517) Timeout happened during capture\n"
     ]
    }
   ],
   "source": [
    "# third capture with too-restrictive window, should fail:\n",
    "scope.trigger.window_start[0] = cycles//2\n",
    "scope.trigger.window_end[0] = cycles\n",
    "trace = cw.capture_trace(scope, target, bytearray(16), bytearray(16))\n",
    "assert trace is None, 'Capture SHOULD have failed but succeeded! (rep %d)' % i"
   ]
  },
  {
   "cell_type": "code",
   "execution_count": null,
   "id": "f28e9907-5778-49f6-ab09-80c9cfc31b25",
   "metadata": {},
   "outputs": [
    {
     "ename": "NameError",
     "evalue": "name 'i' is not defined",
     "output_type": "error",
     "traceback": [
      "\u001b[0;31m---------------------------------------------------------------------------\u001b[0m",
      "\u001b[0;31mNameError\u001b[0m                                 Traceback (most recent call last)",
      "Cell \u001b[0;32mIn[12], line 5\u001b[0m\n\u001b[1;32m      3\u001b[0m scope\u001b[38;5;241m.\u001b[39mtrigger\u001b[38;5;241m.\u001b[39mwindow_end[\u001b[38;5;241m0\u001b[39m] \u001b[38;5;241m=\u001b[39m cycles\n\u001b[1;32m      4\u001b[0m trace \u001b[38;5;241m=\u001b[39m cw\u001b[38;5;241m.\u001b[39mcapture_trace(scope, target, \u001b[38;5;28mbytearray\u001b[39m(\u001b[38;5;241m16\u001b[39m), \u001b[38;5;28mbytearray\u001b[39m(\u001b[38;5;241m16\u001b[39m))\n\u001b[0;32m----> 5\u001b[0m \u001b[38;5;28;01massert\u001b[39;00m trace \u001b[38;5;129;01mis\u001b[39;00m \u001b[38;5;28;01mNone\u001b[39;00m, \u001b[38;5;124m'\u001b[39m\u001b[38;5;124mCapture SHOULD have failed but succeeded! (rep \u001b[39m\u001b[38;5;132;01m%d\u001b[39;00m\u001b[38;5;124m)\u001b[39m\u001b[38;5;124m'\u001b[39m \u001b[38;5;241m%\u001b[39m \u001b[43mi\u001b[49m\n\u001b[1;32m      7\u001b[0m scope\u001b[38;5;241m.\u001b[39mtrigger\u001b[38;5;241m.\u001b[39msequencer_enabled \u001b[38;5;241m=\u001b[39m \u001b[38;5;28;01mFalse\u001b[39;00m\n",
      "\u001b[0;31mNameError\u001b[0m: name 'i' is not defined"
     ]
    }
   ],
   "source": [
    "scope.trigger.sequencer_enabled = False"
   ]
  },
  {
   "cell_type": "code",
   "execution_count": 13,
   "id": "50797241-715b-4fc1-95eb-7b1e13a01e02",
   "metadata": {},
   "outputs": [
    {
     "data": {
      "text/plain": [
       "31864"
      ]
     },
     "execution_count": 13,
     "metadata": {},
     "output_type": "execute_result"
    }
   ],
   "source": [
    "cycles"
   ]
  },
  {
   "cell_type": "code",
   "execution_count": 14,
   "id": "e02157fc-6518-4f40-a2bb-73dc0b1779cc",
   "metadata": {},
   "outputs": [
    {
     "data": {
      "text/plain": [
       "sequencer_enabled = False\n",
       "module            = basic\n",
       "triggers          = tio4"
      ]
     },
     "execution_count": 14,
     "metadata": {},
     "output_type": "execute_result"
    }
   ],
   "source": [
    "scope.trigger"
   ]
  },
  {
   "cell_type": "code",
   "execution_count": null,
   "id": "34568f28-b56c-4fe1-a81b-58eb7a9a5c66",
   "metadata": {},
   "outputs": [],
   "source": []
  }
 ],
 "metadata": {
  "kernelspec": {
   "display_name": "Python (venv39)",
   "language": "python",
   "name": "python3"
  },
  "language_info": {
   "codemirror_mode": {
    "name": "ipython",
    "version": 3
   },
   "file_extension": ".py",
   "mimetype": "text/x-python",
   "name": "python",
   "nbconvert_exporter": "python",
   "pygments_lexer": "ipython3",
   "version": "3.9.7"
  }
 },
 "nbformat": 4,
 "nbformat_minor": 5
}
