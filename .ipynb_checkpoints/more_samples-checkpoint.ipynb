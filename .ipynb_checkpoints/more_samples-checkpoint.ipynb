{
 "cells": [
  {
   "cell_type": "markdown",
   "id": "d9ef0d6e-0f43-492b-b218-28059c8e40c4",
   "metadata": {},
   "source": [
    "# How to capture more samples than the hardware supports?\n",
    "\n",
    "Each ChipWhisperer capture hardware has a maximum number of samples that it can capture. What to do if your target operation is longer?\n",
    "\n",
    "With CW-Pro and CW-Husky, you have the option of streaming (see [\"How to use streaming mode?\"](stream.ipynb), which has its own limitation (the maximum sampling rate is reduced).\n",
    "\n",
    "With CW-Husky, you also have the option of using segmented capture (see [\"How to use segmented capture?\"](segmented.ipynb)).\n",
    "\n",
    "Here we show that one way to work around the sample limitation is to capture the target operation in several steps, using `scope.adc.offset` to grab of different \"chunk\" each time."
   ]
  },
  {
   "cell_type": "markdown",
   "id": "02db9db6-6b1a-4286-ba45-2ad13b48e231",
   "metadata": {},
   "source": [
    "**Supported Capture Hardware:**\\\n",
    "❌ CW-Nano\\\n",
    "✅ CW-Lite\\\n",
    "✅ CW-Pro\\\n",
    "✅ CW-Husky\n",
    "\n",
    "**Required ChipWhisperer software installation:**\\\n",
    "✅ any release"
   ]
  },
  {
   "cell_type": "code",
   "execution_count": null,
   "id": "4facc6d7-e51f-4c73-97dd-cbed747b85ed",
   "metadata": {},
   "outputs": [],
   "source": [
    "%run 'connect.ipynb'"
   ]
  },
  {
   "cell_type": "markdown",
   "id": "cf3b0068-2515-4f4c-9ee3-687929917e80",
   "metadata": {},
   "source": [
    "If your target is running `simpleserial-aes` firmware, this will run the target AES operation. For different target firmware, substitute with what's needed to make your target \"go\":"
   ]
  },
  {
   "cell_type": "code",
   "execution_count": null,
   "id": "c3655406-b1e6-4e11-88c4-accf2cadf7a0",
   "metadata": {},
   "outputs": [],
   "source": [
    "trace = cw.capture_trace(scope, target, bytearray(16), bytearray(16))"
   ]
  },
  {
   "cell_type": "markdown",
   "id": "4b677279-63a2-4b4c-aa86-8802f24d1f8d",
   "metadata": {},
   "source": [
    "We can find the operation length with `scope.adc.trig_count` (as explained in [\"How long is the target operation?\"](trig_count.ipynb)):"
   ]
  },
  {
   "cell_type": "code",
   "execution_count": null,
   "id": "7120b6d4-1b7b-430b-94b2-884bbc6fff74",
   "metadata": {},
   "outputs": [],
   "source": [
    "oplen = scope.adc.trig_count\n",
    "print('Operation length: %d cycles' % oplen)"
   ]
  },
  {
   "cell_type": "markdown",
   "id": "498db11c-17c3-4257-95e7-e9becd19c137",
   "metadata": {},
   "source": [
    "Let's say we want to also capture the UART communication that happens after, so we try extend the capture to grab an additional 200000 samples.\n",
    "\n",
    "Depending on your capture hardware, this will throw an error:"
   ]
  },
  {
   "cell_type": "code",
   "execution_count": null,
   "id": "49a48423-fd1b-4739-85cf-19457f6929bb",
   "metadata": {},
   "outputs": [],
   "source": [
    "try:\n",
    "    scope.adc.samples = oplen + 200000\n",
    "    trace = cw.capture_trace(scope, target, bytearray(16), bytearray(16))\n",
    "    if scope._is_husky:\n",
    "        assert not scope.adc.errors, scope.adc.errors\n",
    "except Exception as e:\n",
    "    print('ERROR: cannot do it! %s' % e)\n",
    "    if scope._is_husky:\n",
    "        scope.errors.clear()"
   ]
  },
  {
   "cell_type": "markdown",
   "id": "e312e3dc-0230-4a6e-a629-6d5ce0613317",
   "metadata": {},
   "source": [
    "What we can do instead is capture the maximum possible number of samples (call this `N`); then repeat the same operation and capture the next `N` samples by setting `scope.adc.offset = N`, and so on until all the samples have been gathered.\n",
    "\n",
    "To be useful, this technique requires that the target can be made to repeat the exact same operation."
   ]
  },
  {
   "cell_type": "code",
   "execution_count": null,
   "id": "a0405e5d-93ea-421a-ae16-164f8ffecefe",
   "metadata": {},
   "outputs": [],
   "source": [
    "import math\n",
    "from tqdm.notebook import tnrange\n",
    "import numpy as np\n",
    "total_samples = oplen + 400000\n",
    "scope.adc.samples = 24400\n",
    "segments = math.ceil(total_samples / scope.adc.samples)\n",
    "scope.adc.offset = 0\n",
    "composite_wave = np.array([])\n",
    "for j in tnrange(segments, desc='Capturing trace segments'):\n",
    "    trace = cw.capture_trace(scope, target, bytearray(16), bytearray(16))\n",
    "    composite_wave = np.append(composite_wave, trace.wave)\n",
    "    scope.adc.offset += scope.adc.samples"
   ]
  },
  {
   "cell_type": "markdown",
   "id": "717cae66-77f0-47c6-af37-d65c87405ea0",
   "metadata": {},
   "source": [
    "We can now see the target operation, followed by the UART activity section, followed by the target's idle state:"
   ]
  },
  {
   "cell_type": "code",
   "execution_count": null,
   "id": "82f739e2-151d-45ee-8ac6-52ad0833c32a",
   "metadata": {},
   "outputs": [],
   "source": [
    "cw.plot(composite_wave)"
   ]
  },
  {
   "cell_type": "code",
   "execution_count": null,
   "id": "ea9d06c2-b813-4b05-9fc2-5f379bbd68d2",
   "metadata": {},
   "outputs": [],
   "source": [
    "assert not scope.adc.errors, scope.adc.errors"
   ]
  }
 ],
 "metadata": {
  "kernelspec": {
   "display_name": "Python (venv39)",
   "language": "python",
   "name": "venv39"
  },
  "language_info": {
   "codemirror_mode": {
    "name": "ipython",
    "version": 3
   },
   "file_extension": ".py",
   "mimetype": "text/x-python",
   "name": "python",
   "nbconvert_exporter": "python",
   "pygments_lexer": "ipython3",
   "version": "3.9.7"
  }
 },
 "nbformat": 4,
 "nbformat_minor": 5
}
