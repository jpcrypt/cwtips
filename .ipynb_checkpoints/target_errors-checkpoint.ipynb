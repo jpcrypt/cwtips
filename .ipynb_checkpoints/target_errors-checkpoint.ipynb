{
 "cells": [
  {
   "cell_type": "markdown",
   "id": "d9ef0d6e-0f43-492b-b218-28059c8e40c4",
   "metadata": {},
   "source": [
    "# ERROR: \"Target did not ack\" or \"no trigger seen\"\n",
    "\n",
    "These are the two errors that users most often run into (if we go by [forum questions](https://forum.newae.com/search?q=target%20did%20not%20ack)).\n",
    "\n",
    "The full error message is something like this:\\\n",
    "`(ChipWhisperer Target ERROR|File SimpleSerial.py:351) Target did not ack`\n",
    "\n",
    "or:\\\n",
    "`(ChipWhisperer Scope WARNING|File _OpenADCInterface.py:730) Timeout in OpenADC capture(), no trigger seen! Trigger forced, data is invalid. Status: 13`\n",
    "\n",
    "(the line numbers will change as the codebase evolves)\n",
    "\n",
    "While the errors are different, they are both often tied to target communication issues.\n",
    "\n",
    "Here we go over the most likely causes, and how to resolve them.\n",
    "\n",
    "These notes apply to all ChipWhisperer hardware and software."
   ]
  },
  {
   "cell_type": "markdown",
   "id": "1868faef-383d-43dc-ace6-6f1e41a88c3f",
   "metadata": {},
   "source": [
    "## Possible Cause #1: Mismatched SimpleSerial Protocol Versions\n",
    "\n",
    "ChipWhisperer target firmware supports two different versions of the [SimpleSerial protocol](https://chipwhisperer.readthedocs.io/en/latest/simpleserial.html), and they are not compatible with each other.\n",
    "\n",
    "The same version must be used to (1) **build the target firmware**, and to (2) **connect to the target**.\n",
    "\n",
    "1. In our firmware build system, the version used is specified as a command-line argument to the `make` command. So in our Jupyter notebooks, you'll see something like the code below. Here, the `SS_VER` variable controls which protocol version is used to build the firmware:\n",
    "```\n",
    "SS_VER='SS_VER_2_1'\n",
    "...\n",
    "%%bash -s \"$PLATFORM\" \"$CRYPTO_TARGET\" \"$SS_VER\"\n",
    "make PLATFORM=$1 CRYPTO_TARGET=$2 SS_VER=$3 -j\n",
    "\n",
    "```\n",
    "2. In our notebooks, connecting to the target is usually done by running [`Setup_Generic.ipynb`](https://github.com/newaetech/chipwhisperer-jupyter/blob/main/Setup_Scripts/Setup_Generic.ipynb), which also uses the `SS_VER` definition to determine which protocol version Python will use to communicate with the target.\n",
    "\n",
    "If target compilation and target connection are done in the same notebook, they both use the same `SS_VER` and so there should be no protocol mismatch problem."
   ]
  },
  {
   "cell_type": "markdown",
   "id": "d7ae0871-0984-4c9a-9652-e14e1a67cbed",
   "metadata": {},
   "source": [
    "## Possible Cause #2: Incorrect Baud Rate\n",
    "\n",
    "SimpleSerial communicates over UART; the baud rate defaults to a (version-dependent) specific value and assumes a specific target clock rate.\n",
    "\n",
    "If you change the target clock rate, the baud rate needs to be adjusted accordingly; see [\"How to change the clock frequency of SimpleSerial targets?\"](baud.ipynb) to learn how."
   ]
  },
  {
   "cell_type": "markdown",
   "id": "f6039904-3c8b-462c-9f9f-6eec674e068e",
   "metadata": {},
   "source": [
    "## Possible Cause #3: Target Needs a Reset\n",
    "\n",
    "Some targets require a reset after they are programmed, or after their clock is changed.\n",
    "\n",
    "[`Setup_Generic.ipynb`](https://github.com/newaetech/chipwhisperer-jupyter/blob/main/Setup_Scripts/Setup_Generic.ipynb) defines a target-dependent `reset_target()` function; there is also a manual reset button on our CW308 and CW313 target boards.\n",
    "\n",
    "Resetting the target should only be required once; if you find yourself having to reset the target repeatedly, this is indicative of problems with your firmware."
   ]
  },
  {
   "cell_type": "markdown",
   "id": "541259d4-4910-4486-aa28-febde505d3de",
   "metadata": {},
   "source": [
    "## Possible Cause #4: Target Not Programmed or Not Running the Expected Firmware\n",
    "\n",
    "Seems obvious but it's happened to all of us!"
   ]
  },
  {
   "cell_type": "markdown",
   "id": "80cceb69-783c-4259-b4ea-fa1e82ee06fb",
   "metadata": {},
   "source": [
    "## Possible Cause #5: Firmware Problems\n",
    "\n",
    "If you're implementing your own target firmware, that may well be where the problem lies. Any number of things can go wrong; these errors indicate that the target isn't responding as expected. Using a debugger is usually the best first step towards figuring out why."
   ]
  }
 ],
 "metadata": {
  "kernelspec": {
   "display_name": "Python (venv39)",
   "language": "python",
   "name": "venv39"
  },
  "language_info": {
   "codemirror_mode": {
    "name": "ipython",
    "version": 3
   },
   "file_extension": ".py",
   "mimetype": "text/x-python",
   "name": "python",
   "nbconvert_exporter": "python",
   "pygments_lexer": "ipython3",
   "version": "3.9.7"
  }
 },
 "nbformat": 4,
 "nbformat_minor": 5
}
