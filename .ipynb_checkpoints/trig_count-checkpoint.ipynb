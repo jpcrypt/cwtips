{
 "cells": [
  {
   "cell_type": "markdown",
   "id": "d9ef0d6e-0f43-492b-b218-28059c8e40c4",
   "metadata": {},
   "source": [
    "# How long is the target operation?\n",
    "\n",
    "When the capture is triggered by the `TIO4` line (as it is in most of our course notebooks), ChipWhisperer measures the number of clock cycles that `TIO4` is high for.\n",
    "\n",
    "You can use this to set `scope.adc.samples` to capture the full target operation."
   ]
  },
  {
   "cell_type": "markdown",
   "id": "02db9db6-6b1a-4286-ba45-2ad13b48e231",
   "metadata": {},
   "source": [
    "**Supported Capture Hardware:**\\\n",
    "❌ CW-Nano\\\n",
    "✅ CW-Lite\\\n",
    "✅ CW-Pro\\\n",
    "✅ CW-Husky\n",
    "\n",
    "**Required ChipWhisperer software installation:**\\\n",
    "✅ any release *(note: with CW-Lite/Pro on releases 5.7.0 and older, you can run into [this issue](https://github.com/newaetech/chipwhisperer/issues/351))*"
   ]
  },
  {
   "cell_type": "code",
   "execution_count": 1,
   "id": "4facc6d7-e51f-4c73-97dd-cbed747b85ed",
   "metadata": {},
   "outputs": [],
   "source": [
    "%run 'connect.ipynb'"
   ]
  },
  {
   "cell_type": "markdown",
   "id": "cf3b0068-2515-4f4c-9ee3-687929917e80",
   "metadata": {},
   "source": [
    "If your target is running `simpleserial-aes` firmware, this will run the target AES operation. For different target firmware, substitute with what's needed to make your target \"go\":"
   ]
  },
  {
   "cell_type": "code",
   "execution_count": null,
   "id": "c3655406-b1e6-4e11-88c4-accf2cadf7a0",
   "metadata": {},
   "outputs": [],
   "source": [
    "trace = cw.capture_trace(scope, target, bytearray(16), bytearray(16))"
   ]
  },
  {
   "cell_type": "markdown",
   "id": "4b677279-63a2-4b4c-aa86-8802f24d1f8d",
   "metadata": {},
   "source": [
    "Now we can learn how long the trigger was high via `scope.adc.trig_count`:"
   ]
  },
  {
   "cell_type": "code",
   "execution_count": null,
   "id": "7120b6d4-1b7b-430b-94b2-884bbc6fff74",
   "metadata": {},
   "outputs": [],
   "source": [
    "oplen = scope.adc.trig_count\n",
    "print('Operation length: %d cycles' % oplen)"
   ]
  },
  {
   "cell_type": "markdown",
   "id": "83c779a5-2cce-427f-b1a5-a687608b72db",
   "metadata": {},
   "source": [
    "`scope.adc.trig_count` measures in cycles of the **ADC sampling clock**, not the target clock.\n",
    "\n",
    "This means you can directly set `scope.adc.samples`:"
   ]
  },
  {
   "cell_type": "code",
   "execution_count": null,
   "id": "22002a04-b284-4932-8def-6e3be5260b14",
   "metadata": {},
   "outputs": [],
   "source": [
    "scope.adc.samples = oplen"
   ]
  },
  {
   "cell_type": "markdown",
   "id": "cf3e9e59-96df-443b-8bb6-d7183b970f3f",
   "metadata": {},
   "source": [
    "> ⚠️ On CW-Lite, this may exceed the maximum capture size. See [\"Capturing more samples than the hardware supports\"](more_samples.ipynb) to learn how to get around this problem."
   ]
  },
  {
   "cell_type": "markdown",
   "id": "41eb5f88-ea83-4d42-a417-8aeec208e8bb",
   "metadata": {},
   "source": [
    "If we repeat the capture and plot it, we can see the 10 AES rounds:"
   ]
  },
  {
   "cell_type": "code",
   "execution_count": null,
   "id": "d607d3d6-3ef2-404b-94f5-04645185b378",
   "metadata": {},
   "outputs": [],
   "source": [
    "trace = cw.capture_trace(scope, target, bytearray(16), bytearray(16))\n",
    "cw.plot(trace.wave)"
   ]
  },
  {
   "cell_type": "markdown",
   "id": "498db11c-17c3-4257-95e7-e9becd19c137",
   "metadata": {},
   "source": [
    "If you're not convinced, let's extend the capture to grab an additional 2000 samples before and after the trigger:"
   ]
  },
  {
   "cell_type": "code",
   "execution_count": null,
   "id": "ca5117ec-8ca4-4dc1-95bf-5d03decc5d74",
   "metadata": {},
   "outputs": [],
   "source": [
    "scope.adc.presamples = 2000\n",
    "scope.adc.samples = oplen + 4000"
   ]
  },
  {
   "cell_type": "code",
   "execution_count": null,
   "id": "f1b3f0ba-080c-4f42-a115-97f8a68a13a2",
   "metadata": {},
   "outputs": [],
   "source": [
    "trace = cw.capture_trace(scope, target, bytearray(16), bytearray(16))\n",
    "cw.plot(trace.wave)"
   ]
  },
  {
   "cell_type": "code",
   "execution_count": null,
   "id": "ea9d06c2-b813-4b05-9fc2-5f379bbd68d2",
   "metadata": {},
   "outputs": [],
   "source": [
    "assert not scope.adc.errors, scope.adc.errors"
   ]
  },
  {
   "cell_type": "code",
   "execution_count": null,
   "id": "f39cf873-88ab-468c-9dde-1d98fffdf169",
   "metadata": {},
   "outputs": [],
   "source": []
  }
 ],
 "metadata": {
  "kernelspec": {
   "display_name": "Python (venv39)",
   "language": "python",
   "name": "venv39"
  },
  "language_info": {
   "codemirror_mode": {
    "name": "ipython",
    "version": 3
   },
   "file_extension": ".py",
   "mimetype": "text/x-python",
   "name": "python",
   "nbconvert_exporter": "python",
   "pygments_lexer": "ipython3",
   "version": "3.9.7"
  }
 },
 "nbformat": 4,
 "nbformat_minor": 5
}
