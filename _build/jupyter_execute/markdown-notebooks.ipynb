{
 "cells": [
  {
   "cell_type": "markdown",
   "id": "b9fd6d96",
   "metadata": {},
   "source": [
    "# Trigger Length\n",
    "\n",
    "Basic connection:"
   ]
  },
  {
   "cell_type": "code",
   "execution_count": null,
   "id": "2d73870f",
   "metadata": {},
   "outputs": [],
   "source": [
    "import chipwhisperer as cw\n",
    "scope = cw.scope(name='Husky')\n",
    "scope.errors.clear()\n",
    "scope.default_setup(verbose=False)\n",
    "target = cw.target(scope, cw.targets.SimpleSerial)"
   ]
  },
  {
   "cell_type": "markdown",
   "id": "a1b56849",
   "metadata": {},
   "source": [
    "Run the target AES operation:"
   ]
  },
  {
   "cell_type": "code",
   "execution_count": null,
   "id": "8b914e3c",
   "metadata": {},
   "outputs": [],
   "source": [
    "trace = cw.capture_trace(scope, target, bytearray(16), bytearray(16))"
   ]
  },
  {
   "cell_type": "markdown",
   "id": "aff26a5e",
   "metadata": {},
   "source": [
    "Finally: learn how long the trigger was high for:"
   ]
  },
  {
   "cell_type": "code",
   "execution_count": null,
   "id": "239ec24f",
   "metadata": {},
   "outputs": [],
   "source": [
    "print(scope.adc.trig_count)"
   ]
  },
  {
   "cell_type": "markdown",
   "id": "d53e65f3",
   "metadata": {},
   "source": [
    "TODO: increase the *sampling* clock and show that the `trig_count` increases accordingly.\n",
    "\n",
    "Check that everything was clean:"
   ]
  },
  {
   "cell_type": "code",
   "execution_count": null,
   "id": "a53a65cd",
   "metadata": {},
   "outputs": [],
   "source": [
    "print(scope.adc.errors)\n",
    "assert not scope.adc.errors"
   ]
  }
 ],
 "metadata": {
  "jupytext": {
   "cell_metadata_filter": "-all",
   "formats": "md:myst",
   "text_representation": {
    "extension": ".md",
    "format_name": "myst",
    "format_version": 0.13,
    "jupytext_version": "1.16.6"
   }
  },
  "kernelspec": {
   "display_name": "Python (venv39)",
   "language": "python",
   "name": "venv39"
  },
  "source_map": [
   14,
   20,
   26,
   29,
   31,
   35,
   37,
   42
  ]
 },
 "nbformat": 4,
 "nbformat_minor": 5
}