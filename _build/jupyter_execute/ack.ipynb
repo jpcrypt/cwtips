{
 "cells": [
  {
   "cell_type": "markdown",
   "id": "d9ef0d6e-0f43-492b-b218-28059c8e40c4",
   "metadata": {},
   "source": [
    "# ERROR: Target did not ack\n",
    "\n",
    "This is one of the errors that users most often have trouble resolving (if we go by [forum questions](https://forum.newae.com/search?q=target%20did%20not%20ack)).\n",
    "\n",
    "The actual error is something like this:\\\n",
    "`(ChipWhisperer Target ERROR|File SimpleSerial.py:351) Target did not ack`\\\n",
    "(the line number will change as the codebase evolves)\n",
    "\n",
    "Here we go over the most likely causes, and how to resolve them."
   ]
  },
  {
   "cell_type": "markdown",
   "id": "02db9db6-6b1a-4286-ba45-2ad13b48e231",
   "metadata": {},
   "source": [
    "**Supported Capture Hardware:**\\\n",
    "✅ CW-Nano\\\n",
    "✅ CW-Lite\\\n",
    "✅ CW-Pro\\\n",
    "✅ CW-Husky\n",
    "\n",
    "**Required ChipWhisperer software installation:**\\\n",
    "❌ not released yet\\\n",
    "✅ [develop branch](https://github.com/newaetech/chipwhisperer/tree/develop)"
   ]
  },
  {
   "cell_type": "code",
   "execution_count": 1,
   "id": "a8dd155f-d76a-4661-94d6-c84016b88a2e",
   "metadata": {},
   "outputs": [],
   "source": [
    "%run 'connect.ipynb'\n",
    "cw.scope_logger.setLevel(cw.logging.WARNING) # turn warnings back on"
   ]
  },
  {
   "cell_type": "code",
   "execution_count": 2,
   "id": "847b07ca-41a7-429d-a749-73ec08f39f3e",
   "metadata": {},
   "outputs": [
    {
     "data": {
      "text/plain": [
       "'Simple Serial'"
      ]
     },
     "execution_count": 2,
     "metadata": {},
     "output_type": "execute_result"
    }
   ],
   "source": [
    "target._name"
   ]
  },
  {
   "cell_type": "markdown",
   "id": "a747108f-5f00-4720-8578-1bd42cff2b51",
   "metadata": {},
   "source": [
    "Let's confirm the default settings that [`connect.ipynb`](connect.ipynb) gave us via `scope.default_setup()` and `cw.target()`:"
   ]
  },
  {
   "cell_type": "code",
   "execution_count": 3,
   "id": "7a7b4e14-d71a-48a4-b41c-94ef0dce32fc",
   "metadata": {},
   "outputs": [
    {
     "name": "stdout",
     "output_type": "stream",
     "text": [
      "Clock: 7370129.870130 MHz\n",
      "Baud: 38400 bps\n"
     ]
    }
   ],
   "source": [
    "CLOCK = scope.clock.clkgen_freq\n",
    "BAUD = target.baud\n",
    "print('Clock: %f MHz\\nBaud: %d bps' % (CLOCK, BAUD))"
   ]
  },
  {
   "cell_type": "markdown",
   "id": "cf3b0068-2515-4f4c-9ee3-687929917e80",
   "metadata": {},
   "source": [
    "We can confirm that communication is working by running a capture.\n",
    "\n",
    "If your target is running `simpleserial-aes` firmware, this will run the target AES operation. For different target firmware, substitute with what's needed to make your target \"go\":"
   ]
  },
  {
   "cell_type": "code",
   "execution_count": 4,
   "id": "d7143c83-f9e5-4c05-b879-c4190a27a0a0",
   "metadata": {},
   "outputs": [
    {
     "data": {
      "text/plain": [
       "38400"
      ]
     },
     "execution_count": 4,
     "metadata": {},
     "output_type": "execute_result"
    }
   ],
   "source": [
    "target.baud"
   ]
  },
  {
   "cell_type": "code",
   "execution_count": 5,
   "id": "27770b73-e611-4b25-99b9-9bcb380e718f",
   "metadata": {},
   "outputs": [],
   "source": [
    "target.baud = 50123"
   ]
  },
  {
   "cell_type": "code",
   "execution_count": 6,
   "id": "09c9ac33-55e4-4d44-9ec0-8753115ffff2",
   "metadata": {},
   "outputs": [],
   "source": [
    "target.baud = 38400"
   ]
  },
  {
   "cell_type": "code",
   "execution_count": 7,
   "id": "da304560-e170-4108-8745-55bffd96a674",
   "metadata": {},
   "outputs": [],
   "source": [
    "scope.io.tio1 = \"serial_tx\"\n",
    "scope.io.tio2 = \"serial_rx\""
   ]
  },
  {
   "cell_type": "code",
   "execution_count": 8,
   "id": "52d0b92c-8673-4a51-b25e-52ddc0ff6fb3",
   "metadata": {},
   "outputs": [],
   "source": [
    "scope.io.tio1 = \"serial_rx\"\n",
    "scope.io.tio2 = \"serial_tx\""
   ]
  },
  {
   "cell_type": "code",
   "execution_count": 9,
   "id": "c3655406-b1e6-4e11-88c4-accf2cadf7a0",
   "metadata": {},
   "outputs": [
    {
     "ename": "USBErrorIO",
     "evalue": "LIBUSB_ERROR_IO [-1]",
     "output_type": "error",
     "traceback": [
      "\u001b[0;31m---------------------------------------------------------------------------\u001b[0m",
      "\u001b[0;31mUSBErrorIO\u001b[0m                                Traceback (most recent call last)",
      "Cell \u001b[0;32mIn[9], line 1\u001b[0m\n\u001b[0;32m----> 1\u001b[0m trace \u001b[38;5;241m=\u001b[39m \u001b[43mcw\u001b[49m\u001b[38;5;241;43m.\u001b[39;49m\u001b[43mcapture_trace\u001b[49m\u001b[43m(\u001b[49m\u001b[43mscope\u001b[49m\u001b[43m,\u001b[49m\u001b[43m \u001b[49m\u001b[43mtarget\u001b[49m\u001b[43m,\u001b[49m\u001b[43m \u001b[49m\u001b[38;5;28;43mbytearray\u001b[39;49m\u001b[43m(\u001b[49m\u001b[38;5;241;43m16\u001b[39;49m\u001b[43m)\u001b[49m\u001b[43m,\u001b[49m\u001b[43m \u001b[49m\u001b[38;5;28;43mbytearray\u001b[39;49m\u001b[43m(\u001b[49m\u001b[38;5;241;43m16\u001b[39;49m\u001b[43m)\u001b[49m\u001b[43m)\u001b[49m\n",
      "File \u001b[0;32m~/git/cw_develop/software/chipwhisperer/__init__.py:502\u001b[0m, in \u001b[0;36mcapture_trace\u001b[0;34m(scope, target, plaintext, key, ack, poll_done, as_int, always_send_key)\u001b[0m\n\u001b[1;32m    499\u001b[0m \u001b[38;5;28;01mif\u001b[39;00m plaintext:\n\u001b[1;32m    500\u001b[0m     target\u001b[38;5;241m.\u001b[39msimpleserial_write(\u001b[38;5;124m'\u001b[39m\u001b[38;5;124mp\u001b[39m\u001b[38;5;124m'\u001b[39m, plaintext)\n\u001b[0;32m--> 502\u001b[0m ret \u001b[38;5;241m=\u001b[39m \u001b[43mscope\u001b[49m\u001b[38;5;241;43m.\u001b[39;49m\u001b[43mcapture\u001b[49m\u001b[43m(\u001b[49m\u001b[43mpoll_done\u001b[49m\u001b[38;5;241;43m=\u001b[39;49m\u001b[43mpoll_done\u001b[49m\u001b[43m)\u001b[49m\n\u001b[1;32m    504\u001b[0m i \u001b[38;5;241m=\u001b[39m \u001b[38;5;241m0\u001b[39m\n\u001b[1;32m    505\u001b[0m \u001b[38;5;28;01mwhile\u001b[39;00m \u001b[38;5;129;01mnot\u001b[39;00m target\u001b[38;5;241m.\u001b[39mis_done():\n",
      "File \u001b[0;32m~/git/cw_develop/software/chipwhisperer/capture/scopes/OpenADC.py:875\u001b[0m, in \u001b[0;36mOpenADC.capture\u001b[0;34m(self, poll_done)\u001b[0m\n\u001b[1;32m    873\u001b[0m \u001b[38;5;28;01melse\u001b[39;00m:\n\u001b[1;32m    874\u001b[0m     samples \u001b[38;5;241m=\u001b[39m \u001b[38;5;28mself\u001b[39m\u001b[38;5;241m.\u001b[39madc\u001b[38;5;241m.\u001b[39msamples\n\u001b[0;32m--> 875\u001b[0m b \u001b[38;5;241m=\u001b[39m \u001b[38;5;28;43mself\u001b[39;49m\u001b[38;5;241;43m.\u001b[39;49m\u001b[43m_capture_read\u001b[49m\u001b[43m(\u001b[49m\u001b[43msamples\u001b[49m\u001b[43m)\u001b[49m\n\u001b[1;32m    876\u001b[0m \u001b[38;5;28;01mreturn\u001b[39;00m a \u001b[38;5;129;01mor\u001b[39;00m b\n",
      "File \u001b[0;32m~/git/cw_develop/software/chipwhisperer/capture/scopes/OpenADC.py:819\u001b[0m, in \u001b[0;36mOpenADC._capture_read\u001b[0;34m(self, num_points)\u001b[0m\n\u001b[1;32m    816\u001b[0m     num_points \u001b[38;5;241m=\u001b[39m \u001b[38;5;28mself\u001b[39m\u001b[38;5;241m.\u001b[39madc\u001b[38;5;241m.\u001b[39msamples\n\u001b[1;32m    817\u001b[0m scope_logger\u001b[38;5;241m.\u001b[39mdebug(\u001b[38;5;124m\"\u001b[39m\u001b[38;5;124mExpecting \u001b[39m\u001b[38;5;132;01m{}\u001b[39;00m\u001b[38;5;124m points\u001b[39m\u001b[38;5;124m\"\u001b[39m\u001b[38;5;241m.\u001b[39mformat(num_points))\n\u001b[0;32m--> 819\u001b[0m \u001b[38;5;28mself\u001b[39m\u001b[38;5;241m.\u001b[39mdata_points \u001b[38;5;241m=\u001b[39m \u001b[38;5;28;43mself\u001b[39;49m\u001b[38;5;241;43m.\u001b[39;49m\u001b[43msc\u001b[49m\u001b[38;5;241;43m.\u001b[39;49m\u001b[43mreadData\u001b[49m\u001b[43m(\u001b[49m\u001b[43mnum_points\u001b[49m\u001b[43m)\u001b[49m\n\u001b[1;32m    821\u001b[0m scope_logger\u001b[38;5;241m.\u001b[39mdebug(\u001b[38;5;124m\"\u001b[39m\u001b[38;5;124mRead \u001b[39m\u001b[38;5;132;01m{}\u001b[39;00m\u001b[38;5;124m datapoints\u001b[39m\u001b[38;5;124m\"\u001b[39m\u001b[38;5;241m.\u001b[39mformat(\u001b[38;5;28mlen\u001b[39m(\u001b[38;5;28mself\u001b[39m\u001b[38;5;241m.\u001b[39mdata_points)))\n\u001b[1;32m    822\u001b[0m \u001b[38;5;28;01mif\u001b[39;00m (\u001b[38;5;28mself\u001b[39m\u001b[38;5;241m.\u001b[39mdata_points \u001b[38;5;129;01mis\u001b[39;00m \u001b[38;5;28;01mNone\u001b[39;00m) \u001b[38;5;129;01mor\u001b[39;00m (\u001b[38;5;28mlen\u001b[39m(\u001b[38;5;28mself\u001b[39m\u001b[38;5;241m.\u001b[39mdata_points) \u001b[38;5;241m!=\u001b[39m num_points):\n",
      "File \u001b[0;32m~/git/cw_develop/software/chipwhisperer/capture/scopes/_OpenADCInterface.py:774\u001b[0m, in \u001b[0;36mOpenADCInterface.readData\u001b[0;34m(self, NumberPoints, progressDialog)\u001b[0m\n\u001b[1;32m    772\u001b[0m scope_logger\u001b[38;5;241m.\u001b[39mdebug(\u001b[38;5;124m\"\u001b[39m\u001b[38;5;124mReading data from OpenADC (NumberPoints=\u001b[39m\u001b[38;5;132;01m%d\u001b[39;00m\u001b[38;5;124m)...\u001b[39m\u001b[38;5;124m\"\u001b[39m \u001b[38;5;241m%\u001b[39m NumberPoints)\n\u001b[1;32m    773\u001b[0m \u001b[38;5;28;01mif\u001b[39;00m \u001b[38;5;28mself\u001b[39m\u001b[38;5;241m.\u001b[39m_is_husky: \n\u001b[0;32m--> 774\u001b[0m     \u001b[38;5;28;01mreturn\u001b[39;00m \u001b[38;5;28;43mself\u001b[39;49m\u001b[38;5;241;43m.\u001b[39;49m\u001b[43mreadHuskyData\u001b[49m\u001b[43m(\u001b[49m\u001b[43mNumberPoints\u001b[49m\u001b[43m)\u001b[49m\n\u001b[1;32m    775\u001b[0m \u001b[38;5;28;01melif\u001b[39;00m \u001b[38;5;28mself\u001b[39m\u001b[38;5;241m.\u001b[39m_stream_mode:\n\u001b[1;32m    776\u001b[0m     \u001b[38;5;66;03m# Process data\u001b[39;00m\n\u001b[1;32m    777\u001b[0m     bsize \u001b[38;5;241m=\u001b[39m \u001b[38;5;28mself\u001b[39m\u001b[38;5;241m.\u001b[39mserial\u001b[38;5;241m.\u001b[39mcmdReadStream_size_of_fpgablock()\n",
      "File \u001b[0;32m~/git/cw_develop/software/chipwhisperer/capture/scopes/_OpenADCInterface.py:925\u001b[0m, in \u001b[0;36mOpenADCInterface.readHuskyData\u001b[0;34m(self, NumberPoints)\u001b[0m\n\u001b[1;32m    922\u001b[0m \u001b[38;5;28;01mif\u001b[39;00m \u001b[38;5;28mself\u001b[39m\u001b[38;5;241m.\u001b[39m_fast_fifo_read_enable:\n\u001b[1;32m    923\u001b[0m     \u001b[38;5;66;03m# switch FPGA and SAM3U into fast read timing mode\u001b[39;00m\n\u001b[1;32m    924\u001b[0m     \u001b[38;5;28mself\u001b[39m\u001b[38;5;241m.\u001b[39msetFastSMC(\u001b[38;5;241m1\u001b[39m)\n\u001b[0;32m--> 925\u001b[0m data \u001b[38;5;241m=\u001b[39m \u001b[38;5;28;43mself\u001b[39;49m\u001b[38;5;241;43m.\u001b[39;49m\u001b[43msendMessage\u001b[49m\u001b[43m(\u001b[49m\u001b[43mCODE_READ\u001b[49m\u001b[43m,\u001b[49m\u001b[43m \u001b[49m\u001b[38;5;124;43m\"\u001b[39;49m\u001b[38;5;124;43mADCREAD_ADDR\u001b[39;49m\u001b[38;5;124;43m\"\u001b[39;49m\u001b[43m,\u001b[49m\u001b[43m \u001b[49m\u001b[38;5;28;43;01mNone\u001b[39;49;00m\u001b[43m,\u001b[49m\u001b[43m \u001b[49m\u001b[38;5;28;43;01mFalse\u001b[39;49;00m\u001b[43m,\u001b[49m\u001b[43m \u001b[49m\u001b[43mbytesToRead\u001b[49m\u001b[43m)\u001b[49m\n\u001b[1;32m    926\u001b[0m \u001b[38;5;66;03m# switch FPGA and SAM3U back to regular read timing mode\u001b[39;00m\n\u001b[1;32m    927\u001b[0m \u001b[38;5;28;01mif\u001b[39;00m \u001b[38;5;28mself\u001b[39m\u001b[38;5;241m.\u001b[39m_fast_fifo_read_enable:\n",
      "File \u001b[0;32m~/git/cw_develop/software/chipwhisperer/capture/scopes/_OpenADCInterface.py:288\u001b[0m, in \u001b[0;36mOpenADCInterface.sendMessage\u001b[0;34m(self, mode, address, payload, Validate, maxResp, readMask)\u001b[0m\n\u001b[1;32m    286\u001b[0m address \u001b[38;5;241m=\u001b[39m \u001b[38;5;28mself\u001b[39m\u001b[38;5;241m.\u001b[39m_address_str2int(address)\n\u001b[1;32m    287\u001b[0m \u001b[38;5;28;01mif\u001b[39;00m mode \u001b[38;5;241m!=\u001b[39m CODE_WRITE:\n\u001b[0;32m--> 288\u001b[0m     \u001b[38;5;28;01mreturn\u001b[39;00m \u001b[38;5;28;43mself\u001b[39;49m\u001b[38;5;241;43m.\u001b[39;49m\u001b[43mmsg_read\u001b[49m\u001b[43m(\u001b[49m\u001b[43maddress\u001b[49m\u001b[43m,\u001b[49m\u001b[43m \u001b[49m\u001b[43mmaxResp\u001b[49m\u001b[43m)\u001b[49m\n\u001b[1;32m    289\u001b[0m \u001b[38;5;28mself\u001b[39m\u001b[38;5;241m.\u001b[39mmsg_write(address, payload)\n\u001b[1;32m    290\u001b[0m \u001b[38;5;28;01mif\u001b[39;00m Validate:\n",
      "File \u001b[0;32m~/git/cw_develop/software/chipwhisperer/capture/scopes/_OpenADCInterface.py:212\u001b[0m, in \u001b[0;36mOpenADCInterface.msg_read\u001b[0;34m(self, address, max_resp)\u001b[0m\n\u001b[1;32m    209\u001b[0m         scope_logger\u001b[38;5;241m.\u001b[39mwarning(\u001b[38;5;124m\"\u001b[39m\u001b[38;5;124mThe error trace below will show you what led to this:\u001b[39m\u001b[38;5;124m\"\u001b[39m)\n\u001b[1;32m    210\u001b[0m         \u001b[38;5;28;01mraise\u001b[39;00m \u001b[38;5;167;01mValueError\u001b[39;00m\n\u001b[0;32m--> 212\u001b[0m     data \u001b[38;5;241m=\u001b[39m \u001b[38;5;28;43mself\u001b[39;49m\u001b[38;5;241;43m.\u001b[39;49m\u001b[43mserial\u001b[49m\u001b[38;5;241;43m.\u001b[39;49m\u001b[43mcmdReadMem\u001b[49m\u001b[43m(\u001b[49m\u001b[43maddress\u001b[49m\u001b[43m,\u001b[49m\u001b[43m \u001b[49m\u001b[43mmax_resp\u001b[49m\u001b[43m)\u001b[49m\n\u001b[1;32m    213\u001b[0m \u001b[38;5;28;01melse\u001b[39;00m:\n\u001b[1;32m    214\u001b[0m     \u001b[38;5;28mself\u001b[39m\u001b[38;5;241m.\u001b[39m_send_msg_hdr(CODE_READ, address, \u001b[38;5;241m0\u001b[39m)\n",
      "File \u001b[0;32m~/git/cw_develop/software/chipwhisperer/hardware/naeusb/naeusb.py:864\u001b[0m, in \u001b[0;36mNAEUSB.cmdReadMem\u001b[0;34m(self, addr, dlen)\u001b[0m\n\u001b[1;32m    858\u001b[0m \u001b[38;5;28;01mdef\u001b[39;00m \u001b[38;5;21mcmdReadMem\u001b[39m(\u001b[38;5;28mself\u001b[39m, addr : \u001b[38;5;28mint\u001b[39m, dlen : \u001b[38;5;28mint\u001b[39m) \u001b[38;5;241m-\u001b[39m\u001b[38;5;241m>\u001b[39m \u001b[38;5;28mbytearray\u001b[39m:\n\u001b[1;32m    859\u001b[0m \u001b[38;5;250m    \u001b[39m\u001b[38;5;124;03m\"\"\"\u001b[39;00m\n\u001b[1;32m    860\u001b[0m \u001b[38;5;124;03m    Send command to read over external memory interface from FPGA. Automatically\u001b[39;00m\n\u001b[1;32m    861\u001b[0m \u001b[38;5;124;03m    decides to use control-transfer or bulk-endpoint transfer based on data length.\u001b[39;00m\n\u001b[1;32m    862\u001b[0m \u001b[38;5;124;03m    \"\"\"\u001b[39;00m\n\u001b[0;32m--> 864\u001b[0m     \u001b[38;5;28;01mreturn\u001b[39;00m \u001b[38;5;28;43mself\u001b[39;49m\u001b[38;5;241;43m.\u001b[39;49m\u001b[43musbserializer\u001b[49m\u001b[38;5;241;43m.\u001b[39;49m\u001b[43mcmdReadMem\u001b[49m\u001b[43m(\u001b[49m\u001b[43maddr\u001b[49m\u001b[43m,\u001b[49m\u001b[43m \u001b[49m\u001b[43mdlen\u001b[49m\u001b[43m)\u001b[49m\n",
      "File \u001b[0;32m~/git/cw_develop/software/chipwhisperer/hardware/naeusb/naeusb.py:612\u001b[0m, in \u001b[0;36mNAEUSB_Backend.cmdReadMem\u001b[0;34m(self, addr, dlen)\u001b[0m\n\u001b[1;32m    610\u001b[0m     data \u001b[38;5;241m=\u001b[39m \u001b[38;5;28mself\u001b[39m\u001b[38;5;241m.\u001b[39m_cmd_readmem_ctrl(addr, dlen)\n\u001b[1;32m    611\u001b[0m \u001b[38;5;28;01melse\u001b[39;00m:\n\u001b[0;32m--> 612\u001b[0m     data \u001b[38;5;241m=\u001b[39m \u001b[38;5;28;43mself\u001b[39;49m\u001b[38;5;241;43m.\u001b[39;49m\u001b[43m_cmd_readmem_bulk\u001b[49m\u001b[43m(\u001b[49m\u001b[43maddr\u001b[49m\u001b[43m,\u001b[49m\u001b[43m \u001b[49m\u001b[43mdlen\u001b[49m\u001b[43m)\u001b[49m\n\u001b[1;32m    614\u001b[0m naeusb_logger\u001b[38;5;241m.\u001b[39mdebug(\u001b[38;5;124m\"\u001b[39m\u001b[38;5;124mFPGA_READ: bulk: \u001b[39m\u001b[38;5;132;01m{}\u001b[39;00m\u001b[38;5;124m, addr: \u001b[39m\u001b[38;5;132;01m{:08X}\u001b[39;00m\u001b[38;5;124m, dlen: \u001b[39m\u001b[38;5;132;01m{:08X}\u001b[39;00m\u001b[38;5;124m, response: \u001b[39m\u001b[38;5;132;01m{}\u001b[39;00m\u001b[38;5;124m\"\u001b[39m\\\n\u001b[1;32m    615\u001b[0m     \u001b[38;5;241m.\u001b[39mformat(\u001b[38;5;124m\"\u001b[39m\u001b[38;5;124myes\u001b[39m\u001b[38;5;124m\"\u001b[39m \u001b[38;5;28;01mif\u001b[39;00m dlen \u001b[38;5;241m>\u001b[39m\u001b[38;5;241m=\u001b[39m NAEUSB_CTRL_IO_THRESHOLD \u001b[38;5;28;01melse\u001b[39;00m \u001b[38;5;124m\"\u001b[39m\u001b[38;5;124mno\u001b[39m\u001b[38;5;124m\"\u001b[39m, addr, dlen, data))\n\u001b[1;32m    616\u001b[0m \u001b[38;5;28;01mreturn\u001b[39;00m data\n",
      "File \u001b[0;32m~/git/cw_develop/software/chipwhisperer/hardware/naeusb/naeusb.py:601\u001b[0m, in \u001b[0;36mNAEUSB_Backend._cmd_readmem_bulk\u001b[0;34m(self, addr, dlen)\u001b[0m\n\u001b[1;32m    595\u001b[0m \u001b[38;5;250m\u001b[39m\u001b[38;5;124;03m\"\"\"Reads data from the external memory interface over the bulk-transfer endpoint.\u001b[39;00m\n\u001b[1;32m    596\u001b[0m \n\u001b[1;32m    597\u001b[0m \u001b[38;5;124;03mReturns:\u001b[39;00m\n\u001b[1;32m    598\u001b[0m \u001b[38;5;124;03m    The received data.\u001b[39;00m\n\u001b[1;32m    599\u001b[0m \u001b[38;5;124;03m\"\"\"\u001b[39;00m\n\u001b[1;32m    600\u001b[0m \u001b[38;5;28mself\u001b[39m\u001b[38;5;241m.\u001b[39m_cmd_ctrl_send_header(addr, dlen, \u001b[38;5;28mself\u001b[39m\u001b[38;5;241m.\u001b[39mCMD_READMEM_BULK);\n\u001b[0;32m--> 601\u001b[0m \u001b[38;5;28;01mreturn\u001b[39;00m \u001b[38;5;28;43mself\u001b[39;49m\u001b[38;5;241;43m.\u001b[39;49m\u001b[43m_bulk_read\u001b[49m\u001b[43m(\u001b[49m\u001b[43mdlen\u001b[49m\u001b[43m,\u001b[49m\u001b[43m \u001b[49m\u001b[38;5;28;43;01mNone\u001b[39;49;00m\u001b[43m)\u001b[49m\n",
      "File \u001b[0;32m~/git/cw_develop/software/chipwhisperer/hardware/naeusb/naeusb.py:559\u001b[0m, in \u001b[0;36mNAEUSB_Backend._bulk_read\u001b[0;34m(self, data, timeout)\u001b[0m\n\u001b[1;32m    553\u001b[0m \u001b[38;5;250m\u001b[39m\u001b[38;5;124;03m\"\"\"Reads data over the bulk-transfer endpoint.\u001b[39;00m\n\u001b[1;32m    554\u001b[0m \n\u001b[1;32m    555\u001b[0m \u001b[38;5;124;03mReturns:\u001b[39;00m\n\u001b[1;32m    556\u001b[0m \u001b[38;5;124;03m    The received data.\u001b[39;00m\n\u001b[1;32m    557\u001b[0m \u001b[38;5;124;03m\"\"\"\u001b[39;00m\n\u001b[1;32m    558\u001b[0m timeout \u001b[38;5;241m=\u001b[39m \u001b[38;5;28mself\u001b[39m\u001b[38;5;241m.\u001b[39m_get_timeout(timeout)\n\u001b[0;32m--> 559\u001b[0m \u001b[38;5;28;01mreturn\u001b[39;00m \u001b[38;5;28;43mself\u001b[39;49m\u001b[38;5;241;43m.\u001b[39;49m\u001b[43mhandle\u001b[49m\u001b[38;5;241;43m.\u001b[39;49m\u001b[43mbulkRead\u001b[49m\u001b[43m(\u001b[49m\u001b[38;5;28;43mself\u001b[39;49m\u001b[38;5;241;43m.\u001b[39;49m\u001b[43mrep\u001b[49m\u001b[43m,\u001b[49m\u001b[43m \u001b[49m\u001b[43mdata\u001b[49m\u001b[43m,\u001b[49m\u001b[43m \u001b[49m\u001b[43mtimeout\u001b[49m\u001b[43m)\u001b[49m\n",
      "File \u001b[0;32m~/.pyenv/versions/venv39/lib/python3.9/site-packages/usb1/__init__.py:1413\u001b[0m, in \u001b[0;36mUSBDeviceHandle.bulkRead\u001b[0;34m(self, endpoint, length, timeout)\u001b[0m\n\u001b[1;32m   1411\u001b[0m data, data_buffer \u001b[38;5;241m=\u001b[39m create_binary_buffer(length)\n\u001b[1;32m   1412\u001b[0m \u001b[38;5;28;01mtry\u001b[39;00m:\n\u001b[0;32m-> 1413\u001b[0m     transferred \u001b[38;5;241m=\u001b[39m \u001b[38;5;28;43mself\u001b[39;49m\u001b[38;5;241;43m.\u001b[39;49m\u001b[43m_bulkTransfer\u001b[49m\u001b[43m(\u001b[49m\u001b[43mendpoint\u001b[49m\u001b[43m,\u001b[49m\u001b[43m \u001b[49m\u001b[43mdata\u001b[49m\u001b[43m,\u001b[49m\u001b[43m \u001b[49m\u001b[43mlength\u001b[49m\u001b[43m,\u001b[49m\u001b[43m \u001b[49m\u001b[43mtimeout\u001b[49m\u001b[43m)\u001b[49m\n\u001b[1;32m   1414\u001b[0m \u001b[38;5;66;03m# pylint: disable=undefined-variable\u001b[39;00m\n\u001b[1;32m   1415\u001b[0m \u001b[38;5;28;01mexcept\u001b[39;00m USBErrorTimeout \u001b[38;5;28;01mas\u001b[39;00m exception:\n\u001b[1;32m   1416\u001b[0m     \u001b[38;5;66;03m# pylint: enable=undefined-variable\u001b[39;00m\n",
      "File \u001b[0;32m~/.pyenv/versions/venv39/lib/python3.9/site-packages/usb1/__init__.py:1359\u001b[0m, in \u001b[0;36mUSBDeviceHandle._bulkTransfer\u001b[0;34m(self, endpoint, data, length, timeout)\u001b[0m\n\u001b[1;32m   1357\u001b[0m transferred \u001b[38;5;241m=\u001b[39m c_int()\n\u001b[1;32m   1358\u001b[0m \u001b[38;5;28;01mtry\u001b[39;00m:\n\u001b[0;32m-> 1359\u001b[0m     \u001b[43mmayRaiseUSBError\u001b[49m\u001b[43m(\u001b[49m\u001b[43mlibusb1\u001b[49m\u001b[38;5;241;43m.\u001b[39;49m\u001b[43mlibusb_bulk_transfer\u001b[49m\u001b[43m(\u001b[49m\n\u001b[1;32m   1360\u001b[0m \u001b[43m        \u001b[49m\u001b[38;5;28;43mself\u001b[39;49m\u001b[38;5;241;43m.\u001b[39;49m\u001b[43m__handle\u001b[49m\u001b[43m,\u001b[49m\u001b[43m \u001b[49m\u001b[43mendpoint\u001b[49m\u001b[43m,\u001b[49m\u001b[43m \u001b[49m\u001b[43mdata\u001b[49m\u001b[43m,\u001b[49m\u001b[43m \u001b[49m\u001b[43mlength\u001b[49m\u001b[43m,\u001b[49m\u001b[43m \u001b[49m\u001b[43mbyref\u001b[49m\u001b[43m(\u001b[49m\u001b[43mtransferred\u001b[49m\u001b[43m)\u001b[49m\u001b[43m,\u001b[49m\u001b[43m \u001b[49m\u001b[43mtimeout\u001b[49m\u001b[43m,\u001b[49m\n\u001b[1;32m   1361\u001b[0m \u001b[43m    \u001b[49m\u001b[43m)\u001b[49m\u001b[43m)\u001b[49m\n\u001b[1;32m   1362\u001b[0m \u001b[38;5;66;03m# pylint: disable=undefined-variable\u001b[39;00m\n\u001b[1;32m   1363\u001b[0m \u001b[38;5;28;01mexcept\u001b[39;00m USBErrorTimeout \u001b[38;5;28;01mas\u001b[39;00m exception:\n\u001b[1;32m   1364\u001b[0m     \u001b[38;5;66;03m# pylint: enable=undefined-variable\u001b[39;00m\n",
      "File \u001b[0;32m~/.pyenv/versions/venv39/lib/python3.9/site-packages/usb1/__init__.py:128\u001b[0m, in \u001b[0;36mmayRaiseUSBError\u001b[0;34m(value, __raiseUSBError)\u001b[0m\n\u001b[1;32m    122\u001b[0m \u001b[38;5;28;01mdef\u001b[39;00m \u001b[38;5;21mmayRaiseUSBError\u001b[39m(\n\u001b[1;32m    123\u001b[0m         value,\n\u001b[1;32m    124\u001b[0m         \u001b[38;5;66;03m# Avoid globals lookup on call to work during interpreter shutdown.\u001b[39;00m\n\u001b[1;32m    125\u001b[0m         __raiseUSBError\u001b[38;5;241m=\u001b[39mraiseUSBError,\n\u001b[1;32m    126\u001b[0m     ):\n\u001b[1;32m    127\u001b[0m     \u001b[38;5;28;01mif\u001b[39;00m value \u001b[38;5;241m<\u001b[39m \u001b[38;5;241m0\u001b[39m:\n\u001b[0;32m--> 128\u001b[0m         \u001b[43m__raiseUSBError\u001b[49m\u001b[43m(\u001b[49m\u001b[43mvalue\u001b[49m\u001b[43m)\u001b[49m\n\u001b[1;32m    129\u001b[0m     \u001b[38;5;28;01mreturn\u001b[39;00m value\n",
      "File \u001b[0;32m~/.pyenv/versions/venv39/lib/python3.9/site-packages/usb1/__init__.py:120\u001b[0m, in \u001b[0;36mraiseUSBError\u001b[0;34m(value, __STATUS_TO_EXCEPTION_DICT, __USBError)\u001b[0m\n\u001b[1;32m    114\u001b[0m \u001b[38;5;28;01mdef\u001b[39;00m \u001b[38;5;21mraiseUSBError\u001b[39m(\n\u001b[1;32m    115\u001b[0m         value,\n\u001b[1;32m    116\u001b[0m         \u001b[38;5;66;03m# Avoid globals lookup on call to work during interpreter shutdown.\u001b[39;00m\n\u001b[1;32m    117\u001b[0m         __STATUS_TO_EXCEPTION_DICT\u001b[38;5;241m=\u001b[39mSTATUS_TO_EXCEPTION_DICT,\n\u001b[1;32m    118\u001b[0m         __USBError\u001b[38;5;241m=\u001b[39mUSBError,\n\u001b[1;32m    119\u001b[0m     ): \u001b[38;5;66;03m# pylint: disable=dangerous-default-value\u001b[39;00m\n\u001b[0;32m--> 120\u001b[0m     \u001b[38;5;28;01mraise\u001b[39;00m __STATUS_TO_EXCEPTION_DICT\u001b[38;5;241m.\u001b[39mget(value, __USBError)(value)\n",
      "\u001b[0;31mUSBErrorIO\u001b[0m: LIBUSB_ERROR_IO [-1]"
     ]
    }
   ],
   "source": [
    "trace = cw.capture_trace(scope, target, bytearray(16), bytearray(16))"
   ]
  },
  {
   "cell_type": "code",
   "execution_count": 20,
   "id": "d2ee7406-b756-4838-8117-0bde2e71ac9c",
   "metadata": {},
   "outputs": [
    {
     "name": "stderr",
     "output_type": "stream",
     "text": [
      "(ChipWhisperer Target ERROR|File SimpleSerial.py:318) Target did not ack\n"
     ]
    },
    {
     "ename": "Warning",
     "evalue": "Device failed to ack",
     "output_type": "error",
     "traceback": [
      "\u001b[0;31m---------------------------------------------------------------------------\u001b[0m",
      "\u001b[0;31mWarning\u001b[0m                                   Traceback (most recent call last)",
      "Cell \u001b[0;32mIn[20], line 1\u001b[0m\n\u001b[0;32m----> 1\u001b[0m \u001b[43mtarget\u001b[49m\u001b[38;5;241;43m.\u001b[39;49m\u001b[43mset_key\u001b[49m\u001b[43m(\u001b[49m\u001b[38;5;28;43mbytearray\u001b[39;49m\u001b[43m(\u001b[49m\u001b[38;5;241;43m16\u001b[39;49m\u001b[43m)\u001b[49m\u001b[43m,\u001b[49m\u001b[43m \u001b[49m\u001b[43malways_send\u001b[49m\u001b[38;5;241;43m=\u001b[39;49m\u001b[38;5;28;43;01mTrue\u001b[39;49;00m\u001b[43m)\u001b[49m\n",
      "File \u001b[0;32m~/git/cw_develop/software/chipwhisperer/capture/targets/SimpleSerial.py:554\u001b[0m, in \u001b[0;36mSimpleSerial.set_key\u001b[0;34m(self, key, ack, timeout, always_send)\u001b[0m\n\u001b[1;32m    552\u001b[0m     \u001b[38;5;28;01mif\u001b[39;00m ack:\n\u001b[1;32m    553\u001b[0m         \u001b[38;5;28;01mif\u001b[39;00m \u001b[38;5;28mself\u001b[39m\u001b[38;5;241m.\u001b[39msimpleserial_wait_ack(timeout) \u001b[38;5;129;01mis\u001b[39;00m \u001b[38;5;28;01mNone\u001b[39;00m:\n\u001b[0;32m--> 554\u001b[0m             \u001b[38;5;28;01mraise\u001b[39;00m \u001b[38;5;167;01mWarning\u001b[39;00m(\u001b[38;5;124m\"\u001b[39m\u001b[38;5;124mDevice failed to ack\u001b[39m\u001b[38;5;124m\"\u001b[39m)\n\u001b[1;32m    555\u001b[0m \u001b[38;5;28;01melse\u001b[39;00m:\n\u001b[1;32m    556\u001b[0m     target_logger\u001b[38;5;241m.\u001b[39mdebug(\u001b[38;5;124m\"\u001b[39m\u001b[38;5;124mKey unchanged, skipping send\u001b[39m\u001b[38;5;124m\"\u001b[39m)\n",
      "\u001b[0;31mWarning\u001b[0m: Device failed to ack"
     ]
    }
   ],
   "source": [
    "target.set_key(bytearray(16), always_send=True)"
   ]
  },
  {
   "cell_type": "code",
   "execution_count": 17,
   "id": "9b123f15-fd29-456e-94d0-d85995f32da6",
   "metadata": {},
   "outputs": [
    {
     "data": {
      "text/plain": [
       "\u001b[0;31mSignature:\u001b[0m\n",
       "\u001b[0mcw\u001b[0m\u001b[0;34m.\u001b[0m\u001b[0mcapture_trace\u001b[0m\u001b[0;34m(\u001b[0m\u001b[0;34m\u001b[0m\n",
       "\u001b[0;34m\u001b[0m    \u001b[0mscope\u001b[0m\u001b[0;34m:\u001b[0m \u001b[0mUnion\u001b[0m\u001b[0;34m[\u001b[0m\u001b[0mchipwhisperer\u001b[0m\u001b[0;34m.\u001b[0m\u001b[0mcapture\u001b[0m\u001b[0;34m.\u001b[0m\u001b[0mscopes\u001b[0m\u001b[0;34m.\u001b[0m\u001b[0mOpenADC\u001b[0m\u001b[0;34m.\u001b[0m\u001b[0mOpenADC\u001b[0m\u001b[0;34m,\u001b[0m \u001b[0mchipwhisperer\u001b[0m\u001b[0;34m.\u001b[0m\u001b[0mcapture\u001b[0m\u001b[0;34m.\u001b[0m\u001b[0mscopes\u001b[0m\u001b[0;34m.\u001b[0m\u001b[0mcwnano\u001b[0m\u001b[0;34m.\u001b[0m\u001b[0mCWNano\u001b[0m\u001b[0;34m]\u001b[0m\u001b[0;34m,\u001b[0m\u001b[0;34m\u001b[0m\n",
       "\u001b[0;34m\u001b[0m    \u001b[0mtarget\u001b[0m\u001b[0;34m:\u001b[0m \u001b[0mUnion\u001b[0m\u001b[0;34m[\u001b[0m\u001b[0mchipwhisperer\u001b[0m\u001b[0;34m.\u001b[0m\u001b[0mcapture\u001b[0m\u001b[0;34m.\u001b[0m\u001b[0mtargets\u001b[0m\u001b[0;34m.\u001b[0m\u001b[0mCW305\u001b[0m\u001b[0;34m.\u001b[0m\u001b[0mCW305\u001b[0m\u001b[0;34m,\u001b[0m \u001b[0mchipwhisperer\u001b[0m\u001b[0;34m.\u001b[0m\u001b[0mcapture\u001b[0m\u001b[0;34m.\u001b[0m\u001b[0mtargets\u001b[0m\u001b[0;34m.\u001b[0m\u001b[0mCW305_ECC\u001b[0m\u001b[0;34m.\u001b[0m\u001b[0mCW305_ECC\u001b[0m\u001b[0;34m,\u001b[0m \u001b[0mchipwhisperer\u001b[0m\u001b[0;34m.\u001b[0m\u001b[0mcapture\u001b[0m\u001b[0;34m.\u001b[0m\u001b[0mtargets\u001b[0m\u001b[0;34m.\u001b[0m\u001b[0mCW310\u001b[0m\u001b[0;34m.\u001b[0m\u001b[0mCW310\u001b[0m\u001b[0;34m,\u001b[0m \u001b[0mchipwhisperer\u001b[0m\u001b[0;34m.\u001b[0m\u001b[0mcapture\u001b[0m\u001b[0;34m.\u001b[0m\u001b[0mtargets\u001b[0m\u001b[0;34m.\u001b[0m\u001b[0mCW340\u001b[0m\u001b[0;34m.\u001b[0m\u001b[0mCW340\u001b[0m\u001b[0;34m,\u001b[0m \u001b[0mchipwhisperer\u001b[0m\u001b[0;34m.\u001b[0m\u001b[0mcapture\u001b[0m\u001b[0;34m.\u001b[0m\u001b[0mtargets\u001b[0m\u001b[0;34m.\u001b[0m\u001b[0mSimpleSerial\u001b[0m\u001b[0;34m.\u001b[0m\u001b[0mSimpleSerial\u001b[0m\u001b[0;34m,\u001b[0m \u001b[0mchipwhisperer\u001b[0m\u001b[0;34m.\u001b[0m\u001b[0mcapture\u001b[0m\u001b[0;34m.\u001b[0m\u001b[0mtargets\u001b[0m\u001b[0;34m.\u001b[0m\u001b[0mSimpleSerial2\u001b[0m\u001b[0;34m.\u001b[0m\u001b[0mSimpleSerial2\u001b[0m\u001b[0;34m,\u001b[0m \u001b[0mchipwhisperer\u001b[0m\u001b[0;34m.\u001b[0m\u001b[0mcapture\u001b[0m\u001b[0;34m.\u001b[0m\u001b[0mtargets\u001b[0m\u001b[0;34m.\u001b[0m\u001b[0mSimpleSerial2\u001b[0m\u001b[0;34m.\u001b[0m\u001b[0mSimpleSerial2_CDC\u001b[0m\u001b[0;34m]\u001b[0m\u001b[0;34m,\u001b[0m\u001b[0;34m\u001b[0m\n",
       "\u001b[0;34m\u001b[0m    \u001b[0mplaintext\u001b[0m\u001b[0;34m:\u001b[0m \u001b[0mchipwhisperer\u001b[0m\u001b[0;34m.\u001b[0m\u001b[0mcommon\u001b[0m\u001b[0;34m.\u001b[0m\u001b[0mutils\u001b[0m\u001b[0;34m.\u001b[0m\u001b[0mutil\u001b[0m\u001b[0;34m.\u001b[0m\u001b[0mCWByteArray\u001b[0m\u001b[0;34m,\u001b[0m\u001b[0;34m\u001b[0m\n",
       "\u001b[0;34m\u001b[0m    \u001b[0mkey\u001b[0m\u001b[0;34m:\u001b[0m \u001b[0mOptional\u001b[0m\u001b[0;34m[\u001b[0m\u001b[0mchipwhisperer\u001b[0m\u001b[0;34m.\u001b[0m\u001b[0mcommon\u001b[0m\u001b[0;34m.\u001b[0m\u001b[0mutils\u001b[0m\u001b[0;34m.\u001b[0m\u001b[0mutil\u001b[0m\u001b[0;34m.\u001b[0m\u001b[0mCWByteArray\u001b[0m\u001b[0;34m]\u001b[0m \u001b[0;34m=\u001b[0m \u001b[0;32mNone\u001b[0m\u001b[0;34m,\u001b[0m\u001b[0;34m\u001b[0m\n",
       "\u001b[0;34m\u001b[0m    \u001b[0mack\u001b[0m\u001b[0;34m:\u001b[0m \u001b[0mbool\u001b[0m \u001b[0;34m=\u001b[0m \u001b[0;32mTrue\u001b[0m\u001b[0;34m,\u001b[0m\u001b[0;34m\u001b[0m\n",
       "\u001b[0;34m\u001b[0m    \u001b[0mpoll_done\u001b[0m\u001b[0;34m:\u001b[0m \u001b[0mbool\u001b[0m \u001b[0;34m=\u001b[0m \u001b[0;32mFalse\u001b[0m\u001b[0;34m,\u001b[0m\u001b[0;34m\u001b[0m\n",
       "\u001b[0;34m\u001b[0m    \u001b[0mas_int\u001b[0m\u001b[0;34m:\u001b[0m \u001b[0mbool\u001b[0m \u001b[0;34m=\u001b[0m \u001b[0;32mFalse\u001b[0m\u001b[0;34m,\u001b[0m\u001b[0;34m\u001b[0m\n",
       "\u001b[0;34m\u001b[0m    \u001b[0malways_send_key\u001b[0m\u001b[0;34m=\u001b[0m\u001b[0;32mFalse\u001b[0m\u001b[0;34m,\u001b[0m\u001b[0;34m\u001b[0m\n",
       "\u001b[0;34m\u001b[0m\u001b[0;34m)\u001b[0m \u001b[0;34m->\u001b[0m \u001b[0mOptional\u001b[0m\u001b[0;34m[\u001b[0m\u001b[0mchipwhisperer\u001b[0m\u001b[0;34m.\u001b[0m\u001b[0mcommon\u001b[0m\u001b[0;34m.\u001b[0m\u001b[0mtraces\u001b[0m\u001b[0;34m.\u001b[0m\u001b[0mTrace\u001b[0m\u001b[0;34m]\u001b[0m\u001b[0;34m\u001b[0m\u001b[0;34m\u001b[0m\u001b[0m\n",
       "\u001b[0;31mDocstring:\u001b[0m\n",
       "Capture a trace, sending plaintext and key\n",
       "\n",
       "Does all individual steps needed to capture a trace (arming the scope\n",
       "sending the key/plaintext, getting the trace data back, etc.). Uses\n",
       "target.output_len as the length of the expected target reponse for\n",
       "simpleserial.\n",
       "\n",
       "Args:\n",
       "    scope (ScopeTemplate): Scope object to use for capture.\n",
       "    target (TargetTemplate): Target object to read/write text from.\n",
       "    plaintext (bytearray): Plaintext to send to the target. Should be\n",
       "        unencoded bytearray (will be converted to SimpleSerial when it's\n",
       "        sent). If None, don't send plaintext.\n",
       "    key (bytearray, optional): Key to send to target. Should be unencoded\n",
       "        bytearray. If None, don't send key. Defaults to None.\n",
       "    ack (bool, optional): Check for ack when reading response from target.\n",
       "        Defaults to True.\n",
       "    poll_done (bool, optional): poll Husky to find out when it's done\n",
       "        capturing, instead of calculating the capture time based on the\n",
       "        capture parameters. Useful for long trigger-based segmented\n",
       "        captures.  Can also result in slightly faster captures when the\n",
       "        number of samples is high. Defaults to False. Supported by Husky\n",
       "        only.\n",
       "    as_int (bool, optional): If False, return trace as a float. Otherwise,\n",
       "        return as an int.\n",
       "    always_send_key (bool, optional): If True, always send key. Otherwise,\n",
       "        only send if the key is different from the last one sent.\n",
       "\n",
       "Returns:\n",
       "    :class:`Trace <chipwhisperer.common.traces.Trace>` or None if capture\n",
       "    timed out.\n",
       "\n",
       "Raises:\n",
       "    Warning or OSError: Error during capture.\n",
       "\n",
       "Example:\n",
       "    Capturing a trace::\n",
       "\n",
       "        import chipwhisperer as cw\n",
       "        scope = cw.scope()\n",
       "        scope.default_setup()\n",
       "        target = cw.target()\n",
       "        ktp = cw.ktp.Basic()\n",
       "        key, pt = ktp.new_pair()\n",
       "        trace = cw.capture_trace(scope, target, pt, key)\n",
       "\n",
       ".. versionadded:: 5.1\n",
       "    Added to simplify trace capture.\n",
       "\n",
       ".. versionchanged:: 5.2\n",
       "    Added ack parameter and use of target.output_len\n",
       "\n",
       ".. versionchanged:: 5.6.1\n",
       "    Added poll_done parameter for Husky\n",
       "\u001b[0;31mFile:\u001b[0m      ~/git/cw_develop/software/chipwhisperer/__init__.py\n",
       "\u001b[0;31mType:\u001b[0m      function"
      ]
     },
     "metadata": {},
     "output_type": "display_data"
    }
   ],
   "source": [
    "cw.capture_trace?"
   ]
  },
  {
   "cell_type": "code",
   "execution_count": null,
   "id": "c00cfd22-fc69-4a31-9d76-7840e188403c",
   "metadata": {},
   "outputs": [],
   "source": []
  },
  {
   "cell_type": "code",
   "execution_count": null,
   "id": "3f77c3b2-c49d-47f4-8164-936027de0354",
   "metadata": {},
   "outputs": [],
   "source": []
  },
  {
   "cell_type": "code",
   "execution_count": null,
   "id": "ea9d06c2-b813-4b05-9fc2-5f379bbd68d2",
   "metadata": {},
   "outputs": [],
   "source": [
    "assert not scope.adc.errors, scope.adc.errors"
   ]
  },
  {
   "cell_type": "code",
   "execution_count": null,
   "id": "846fe733-8d9f-4563-a6f7-310ac41d99c1",
   "metadata": {},
   "outputs": [],
   "source": []
  }
 ],
 "metadata": {
  "kernelspec": {
   "display_name": "Python (venv39)",
   "language": "python",
   "name": "venv39"
  },
  "language_info": {
   "codemirror_mode": {
    "name": "ipython",
    "version": 3
   },
   "file_extension": ".py",
   "mimetype": "text/x-python",
   "name": "python",
   "nbconvert_exporter": "python",
   "pygments_lexer": "ipython3",
   "version": "3.9.7"
  }
 },
 "nbformat": 4,
 "nbformat_minor": 5
}