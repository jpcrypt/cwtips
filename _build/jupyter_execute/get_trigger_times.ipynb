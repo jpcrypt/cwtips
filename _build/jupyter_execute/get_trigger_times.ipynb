{
 "cells": [
  {
   "cell_type": "markdown",
   "id": "d9ef0d6e-0f43-492b-b218-28059c8e40c4",
   "metadata": {},
   "source": [
    "# When do triggers occur?\n",
    "\n",
    "When multiple triggers occur (e.g. when doing a [segmented capture](segmented.ipynb)), it can be really useful to learn when the triggers occur (relative to the first trigger).\n",
    "\n",
    "`scope.trigger.get_trigger_times()` lets you do just that.\n",
    "\n",
    "We use it in our [sca205](https://github.com/newaetech/chipwhisperer-jupyter/tree/main/courses/sca205) notebooks and in SADExplorer (TODO-link), and it's a critical part of both of those; here we show how easy it is to use with a simple example."
   ]
  },
  {
   "cell_type": "markdown",
   "id": "02db9db6-6b1a-4286-ba45-2ad13b48e231",
   "metadata": {},
   "source": [
    "**Supported Capture Hardware:**\\\n",
    "❌ CW-Nano\\\n",
    "❌ CW-Lite\\\n",
    "❌ CW-Pro\\\n",
    "✅ CW-Husky\n",
    "\n",
    "**Required ChipWhisperer software installation:**\\\n",
    "✅ any release"
   ]
  },
  {
   "cell_type": "code",
   "execution_count": 1,
   "id": "a8dd155f-d76a-4661-94d6-c84016b88a2e",
   "metadata": {},
   "outputs": [
    {
     "ename": "OSError",
     "evalue": "Could not find ChipWhisperer. Is it connected?",
     "output_type": "error",
     "traceback": [
      "\u001b[0;31m---------------------------------------------------------------------------\u001b[0m",
      "\u001b[0;31mOSError\u001b[0m                                   Traceback (most recent call last)",
      "File \u001b[0;32m/tmp/ipykernel_172399/1415757765.py:2\u001b[0m\n\u001b[1;32m      1\u001b[0m \u001b[38;5;28;01mimport\u001b[39;00m \u001b[38;5;21;01mchipwhisperer\u001b[39;00m \u001b[38;5;28;01mas\u001b[39;00m \u001b[38;5;21;01mcw\u001b[39;00m\n\u001b[0;32m----> 2\u001b[0m scope \u001b[38;5;241m=\u001b[39m \u001b[43mcw\u001b[49m\u001b[38;5;241;43m.\u001b[39;49m\u001b[43mscope\u001b[49m\u001b[43m(\u001b[49m\u001b[43mname\u001b[49m\u001b[38;5;241;43m=\u001b[39;49m\u001b[38;5;124;43m'\u001b[39;49m\u001b[38;5;124;43mHusky\u001b[39;49m\u001b[38;5;124;43m'\u001b[39;49m\u001b[43m)\u001b[49m\n\u001b[1;32m      3\u001b[0m scope\u001b[38;5;241m.\u001b[39merrors\u001b[38;5;241m.\u001b[39mclear()\n\u001b[1;32m      4\u001b[0m scope\u001b[38;5;241m.\u001b[39mdefault_setup(verbose\u001b[38;5;241m=\u001b[39m\u001b[38;5;28;01mFalse\u001b[39;00m)\n",
      "File \u001b[0;32m~/git/cw_trimmed/software/chipwhisperer/__init__.py:397\u001b[0m, in \u001b[0;36mscope\u001b[0;34m(scope_type, name, sn, idProduct, bitstream, force, prog_speed, **kwargs)\u001b[0m\n\u001b[1;32m    394\u001b[0m         \u001b[38;5;28;01mraise\u001b[39;00m \u001b[38;5;167;01mValueError\u001b[39;00m\n\u001b[1;32m    396\u001b[0m \u001b[38;5;28;01mif\u001b[39;00m scope_type \u001b[38;5;129;01mis\u001b[39;00m \u001b[38;5;28;01mNone\u001b[39;00m:\n\u001b[0;32m--> 397\u001b[0m     scope_type \u001b[38;5;241m=\u001b[39m \u001b[43mget_cw_type\u001b[49m\u001b[43m(\u001b[49m\u001b[38;5;241;43m*\u001b[39;49m\u001b[38;5;241;43m*\u001b[39;49m\u001b[43mkwargs\u001b[49m\u001b[43m)\u001b[49m\n\u001b[1;32m    398\u001b[0m rtn : scopes\u001b[38;5;241m.\u001b[39mScopeTypes \u001b[38;5;241m=\u001b[39m scope_type()\n\u001b[1;32m    399\u001b[0m \u001b[38;5;28;01mtry\u001b[39;00m:\n",
      "File \u001b[0;32m~/git/cw_trimmed/software/chipwhisperer/common/utils/util.py:578\u001b[0m, in \u001b[0;36mget_cw_type\u001b[0;34m(sn, idProduct, hw_location, **kwargs)\u001b[0m\n\u001b[1;32m    575\u001b[0m     possible_ids \u001b[38;5;241m=\u001b[39m [\u001b[38;5;241m0xace0\u001b[39m, \u001b[38;5;241m0xace2\u001b[39m, \u001b[38;5;241m0xace3\u001b[39m, \u001b[38;5;241m0xace5\u001b[39m, \u001b[38;5;241m0xace6\u001b[39m]\n\u001b[1;32m    577\u001b[0m cwusb \u001b[38;5;241m=\u001b[39m NAEUSB_Backend()\n\u001b[0;32m--> 578\u001b[0m device \u001b[38;5;241m=\u001b[39m \u001b[43mcwusb\u001b[49m\u001b[38;5;241;43m.\u001b[39;49m\u001b[43mfind\u001b[49m\u001b[43m(\u001b[49m\u001b[43mserial_number\u001b[49m\u001b[38;5;241;43m=\u001b[39;49m\u001b[43msn\u001b[49m\u001b[43m,\u001b[49m\u001b[43m \u001b[49m\u001b[43midProduct\u001b[49m\u001b[38;5;241;43m=\u001b[39;49m\u001b[43mpossible_ids\u001b[49m\u001b[43m,\u001b[49m\u001b[43m \u001b[49m\u001b[43mhw_location\u001b[49m\u001b[38;5;241;43m=\u001b[39;49m\u001b[43mhw_location\u001b[49m\u001b[43m)\u001b[49m\n\u001b[1;32m    579\u001b[0m name \u001b[38;5;241m=\u001b[39m device\u001b[38;5;241m.\u001b[39mgetProduct()\n\u001b[1;32m    580\u001b[0m cwusb\u001b[38;5;241m.\u001b[39musb_ctx\u001b[38;5;241m.\u001b[39mclose()\n",
      "File \u001b[0;32m~/git/cw_trimmed/software/chipwhisperer/hardware/naeusb/naeusb.py:415\u001b[0m, in \u001b[0;36mNAEUSB_Backend.find\u001b[0;34m(self, serial_number, idProduct, hw_location)\u001b[0m\n\u001b[1;32m    413\u001b[0m dev_list \u001b[38;5;241m=\u001b[39m \u001b[38;5;28mself\u001b[39m\u001b[38;5;241m.\u001b[39mget_possible_devices(idProduct, attempt_access\u001b[38;5;241m=\u001b[39m(\u001b[38;5;129;01mnot\u001b[39;00m hw_location))\n\u001b[1;32m    414\u001b[0m \u001b[38;5;28;01mif\u001b[39;00m \u001b[38;5;28mlen\u001b[39m(dev_list) \u001b[38;5;241m==\u001b[39m \u001b[38;5;241m0\u001b[39m:\n\u001b[0;32m--> 415\u001b[0m     \u001b[38;5;28;01mraise\u001b[39;00m \u001b[38;5;167;01mOSError\u001b[39;00m(\u001b[38;5;124m\"\u001b[39m\u001b[38;5;124mCould not find ChipWhisperer. Is it connected?\u001b[39m\u001b[38;5;124m\"\u001b[39m)\n\u001b[1;32m    417\u001b[0m \u001b[38;5;66;03m# if more than one CW, we require a serial number\u001b[39;00m\n\u001b[1;32m    418\u001b[0m \u001b[38;5;28;01mif\u001b[39;00m hw_location:\n",
      "\u001b[0;31mOSError\u001b[0m: Could not find ChipWhisperer. Is it connected?"
     ]
    },
    {
     "ename": "OSError",
     "evalue": "Could not find ChipWhisperer. Is it connected?",
     "output_type": "error",
     "traceback": [
      "\u001b[0;31m---------------------------------------------------------------------------\u001b[0m",
      "\u001b[0;31mOSError\u001b[0m                                   Traceback (most recent call last)",
      "Cell \u001b[0;32mIn[1], line 1\u001b[0m\n\u001b[0;32m----> 1\u001b[0m \u001b[43mget_ipython\u001b[49m\u001b[43m(\u001b[49m\u001b[43m)\u001b[49m\u001b[38;5;241;43m.\u001b[39;49m\u001b[43mrun_line_magic\u001b[49m\u001b[43m(\u001b[49m\u001b[38;5;124;43m'\u001b[39;49m\u001b[38;5;124;43mrun\u001b[39;49m\u001b[38;5;124;43m'\u001b[39;49m\u001b[43m,\u001b[49m\u001b[43m \u001b[49m\u001b[38;5;124;43m\"\u001b[39;49m\u001b[38;5;124;43m'\u001b[39;49m\u001b[38;5;124;43mconnect.ipynb\u001b[39;49m\u001b[38;5;124;43m'\u001b[39;49m\u001b[38;5;124;43m\"\u001b[39;49m\u001b[43m)\u001b[49m\n\u001b[1;32m      2\u001b[0m cw\u001b[38;5;241m.\u001b[39mscope_logger\u001b[38;5;241m.\u001b[39msetLevel(cw\u001b[38;5;241m.\u001b[39mlogging\u001b[38;5;241m.\u001b[39mWARNING) \u001b[38;5;66;03m# turn warnings back on\u001b[39;00m\n",
      "File \u001b[0;32m~/.pyenv/versions/venv39/lib/python3.9/site-packages/IPython/core/interactiveshell.py:2456\u001b[0m, in \u001b[0;36mInteractiveShell.run_line_magic\u001b[0;34m(self, magic_name, line, _stack_depth)\u001b[0m\n\u001b[1;32m   2454\u001b[0m     kwargs[\u001b[38;5;124m'\u001b[39m\u001b[38;5;124mlocal_ns\u001b[39m\u001b[38;5;124m'\u001b[39m] \u001b[38;5;241m=\u001b[39m \u001b[38;5;28mself\u001b[39m\u001b[38;5;241m.\u001b[39mget_local_scope(stack_depth)\n\u001b[1;32m   2455\u001b[0m \u001b[38;5;28;01mwith\u001b[39;00m \u001b[38;5;28mself\u001b[39m\u001b[38;5;241m.\u001b[39mbuiltin_trap:\n\u001b[0;32m-> 2456\u001b[0m     result \u001b[38;5;241m=\u001b[39m \u001b[43mfn\u001b[49m\u001b[43m(\u001b[49m\u001b[38;5;241;43m*\u001b[39;49m\u001b[43margs\u001b[49m\u001b[43m,\u001b[49m\u001b[43m \u001b[49m\u001b[38;5;241;43m*\u001b[39;49m\u001b[38;5;241;43m*\u001b[39;49m\u001b[43mkwargs\u001b[49m\u001b[43m)\u001b[49m\n\u001b[1;32m   2458\u001b[0m \u001b[38;5;66;03m# The code below prevents the output from being displayed\u001b[39;00m\n\u001b[1;32m   2459\u001b[0m \u001b[38;5;66;03m# when using magics with decorator @output_can_be_silenced\u001b[39;00m\n\u001b[1;32m   2460\u001b[0m \u001b[38;5;66;03m# when the last Python token in the expression is a ';'.\u001b[39;00m\n\u001b[1;32m   2461\u001b[0m \u001b[38;5;28;01mif\u001b[39;00m \u001b[38;5;28mgetattr\u001b[39m(fn, magic\u001b[38;5;241m.\u001b[39mMAGIC_OUTPUT_CAN_BE_SILENCED, \u001b[38;5;28;01mFalse\u001b[39;00m):\n",
      "File \u001b[0;32m~/.pyenv/versions/venv39/lib/python3.9/site-packages/IPython/core/magics/execution.py:737\u001b[0m, in \u001b[0;36mExecutionMagics.run\u001b[0;34m(self, parameter_s, runner, file_finder)\u001b[0m\n\u001b[1;32m    735\u001b[0m     \u001b[38;5;28;01mwith\u001b[39;00m preserve_keys(\u001b[38;5;28mself\u001b[39m\u001b[38;5;241m.\u001b[39mshell\u001b[38;5;241m.\u001b[39muser_ns, \u001b[38;5;124m'\u001b[39m\u001b[38;5;124m__file__\u001b[39m\u001b[38;5;124m'\u001b[39m):\n\u001b[1;32m    736\u001b[0m         \u001b[38;5;28mself\u001b[39m\u001b[38;5;241m.\u001b[39mshell\u001b[38;5;241m.\u001b[39muser_ns[\u001b[38;5;124m'\u001b[39m\u001b[38;5;124m__file__\u001b[39m\u001b[38;5;124m'\u001b[39m] \u001b[38;5;241m=\u001b[39m filename\n\u001b[0;32m--> 737\u001b[0m         \u001b[38;5;28;43mself\u001b[39;49m\u001b[38;5;241;43m.\u001b[39;49m\u001b[43mshell\u001b[49m\u001b[38;5;241;43m.\u001b[39;49m\u001b[43msafe_execfile_ipy\u001b[49m\u001b[43m(\u001b[49m\u001b[43mfilename\u001b[49m\u001b[43m,\u001b[49m\u001b[43m \u001b[49m\u001b[43mraise_exceptions\u001b[49m\u001b[38;5;241;43m=\u001b[39;49m\u001b[38;5;28;43;01mTrue\u001b[39;49;00m\u001b[43m)\u001b[49m\n\u001b[1;32m    738\u001b[0m     \u001b[38;5;28;01mreturn\u001b[39;00m\n\u001b[1;32m    740\u001b[0m \u001b[38;5;66;03m# Control the response to exit() calls made by the script being run\u001b[39;00m\n",
      "File \u001b[0;32m~/.pyenv/versions/venv39/lib/python3.9/site-packages/IPython/core/interactiveshell.py:2978\u001b[0m, in \u001b[0;36mInteractiveShell.safe_execfile_ipy\u001b[0;34m(self, fname, shell_futures, raise_exceptions)\u001b[0m\n\u001b[1;32m   2976\u001b[0m result \u001b[38;5;241m=\u001b[39m \u001b[38;5;28mself\u001b[39m\u001b[38;5;241m.\u001b[39mrun_cell(cell, silent\u001b[38;5;241m=\u001b[39m\u001b[38;5;28;01mTrue\u001b[39;00m, shell_futures\u001b[38;5;241m=\u001b[39mshell_futures)\n\u001b[1;32m   2977\u001b[0m \u001b[38;5;28;01mif\u001b[39;00m raise_exceptions:\n\u001b[0;32m-> 2978\u001b[0m     \u001b[43mresult\u001b[49m\u001b[38;5;241;43m.\u001b[39;49m\u001b[43mraise_error\u001b[49m\u001b[43m(\u001b[49m\u001b[43m)\u001b[49m\n\u001b[1;32m   2979\u001b[0m \u001b[38;5;28;01melif\u001b[39;00m \u001b[38;5;129;01mnot\u001b[39;00m result\u001b[38;5;241m.\u001b[39msuccess:\n\u001b[1;32m   2980\u001b[0m     \u001b[38;5;28;01mbreak\u001b[39;00m\n",
      "File \u001b[0;32m~/.pyenv/versions/venv39/lib/python3.9/site-packages/IPython/core/interactiveshell.py:294\u001b[0m, in \u001b[0;36mExecutionResult.raise_error\u001b[0;34m(self)\u001b[0m\n\u001b[1;32m    292\u001b[0m     \u001b[38;5;28;01mraise\u001b[39;00m \u001b[38;5;28mself\u001b[39m\u001b[38;5;241m.\u001b[39merror_before_exec\n\u001b[1;32m    293\u001b[0m \u001b[38;5;28;01mif\u001b[39;00m \u001b[38;5;28mself\u001b[39m\u001b[38;5;241m.\u001b[39merror_in_exec \u001b[38;5;129;01mis\u001b[39;00m \u001b[38;5;129;01mnot\u001b[39;00m \u001b[38;5;28;01mNone\u001b[39;00m:\n\u001b[0;32m--> 294\u001b[0m     \u001b[38;5;28;01mraise\u001b[39;00m \u001b[38;5;28mself\u001b[39m\u001b[38;5;241m.\u001b[39merror_in_exec\n",
      "    \u001b[0;31m[... skipping hidden 1 frame]\u001b[0m\n",
      "File \u001b[0;32m/tmp/ipykernel_172399/1415757765.py:2\u001b[0m\n\u001b[1;32m      1\u001b[0m \u001b[38;5;28;01mimport\u001b[39;00m \u001b[38;5;21;01mchipwhisperer\u001b[39;00m \u001b[38;5;28;01mas\u001b[39;00m \u001b[38;5;21;01mcw\u001b[39;00m\n\u001b[0;32m----> 2\u001b[0m scope \u001b[38;5;241m=\u001b[39m \u001b[43mcw\u001b[49m\u001b[38;5;241;43m.\u001b[39;49m\u001b[43mscope\u001b[49m\u001b[43m(\u001b[49m\u001b[43mname\u001b[49m\u001b[38;5;241;43m=\u001b[39;49m\u001b[38;5;124;43m'\u001b[39;49m\u001b[38;5;124;43mHusky\u001b[39;49m\u001b[38;5;124;43m'\u001b[39;49m\u001b[43m)\u001b[49m\n\u001b[1;32m      3\u001b[0m scope\u001b[38;5;241m.\u001b[39merrors\u001b[38;5;241m.\u001b[39mclear()\n\u001b[1;32m      4\u001b[0m scope\u001b[38;5;241m.\u001b[39mdefault_setup(verbose\u001b[38;5;241m=\u001b[39m\u001b[38;5;28;01mFalse\u001b[39;00m)\n",
      "File \u001b[0;32m~/git/cw_trimmed/software/chipwhisperer/__init__.py:397\u001b[0m, in \u001b[0;36mscope\u001b[0;34m(scope_type, name, sn, idProduct, bitstream, force, prog_speed, **kwargs)\u001b[0m\n\u001b[1;32m    394\u001b[0m         \u001b[38;5;28;01mraise\u001b[39;00m \u001b[38;5;167;01mValueError\u001b[39;00m\n\u001b[1;32m    396\u001b[0m \u001b[38;5;28;01mif\u001b[39;00m scope_type \u001b[38;5;129;01mis\u001b[39;00m \u001b[38;5;28;01mNone\u001b[39;00m:\n\u001b[0;32m--> 397\u001b[0m     scope_type \u001b[38;5;241m=\u001b[39m \u001b[43mget_cw_type\u001b[49m\u001b[43m(\u001b[49m\u001b[38;5;241;43m*\u001b[39;49m\u001b[38;5;241;43m*\u001b[39;49m\u001b[43mkwargs\u001b[49m\u001b[43m)\u001b[49m\n\u001b[1;32m    398\u001b[0m rtn : scopes\u001b[38;5;241m.\u001b[39mScopeTypes \u001b[38;5;241m=\u001b[39m scope_type()\n\u001b[1;32m    399\u001b[0m \u001b[38;5;28;01mtry\u001b[39;00m:\n",
      "File \u001b[0;32m~/git/cw_trimmed/software/chipwhisperer/common/utils/util.py:578\u001b[0m, in \u001b[0;36mget_cw_type\u001b[0;34m(sn, idProduct, hw_location, **kwargs)\u001b[0m\n\u001b[1;32m    575\u001b[0m     possible_ids \u001b[38;5;241m=\u001b[39m [\u001b[38;5;241m0xace0\u001b[39m, \u001b[38;5;241m0xace2\u001b[39m, \u001b[38;5;241m0xace3\u001b[39m, \u001b[38;5;241m0xace5\u001b[39m, \u001b[38;5;241m0xace6\u001b[39m]\n\u001b[1;32m    577\u001b[0m cwusb \u001b[38;5;241m=\u001b[39m NAEUSB_Backend()\n\u001b[0;32m--> 578\u001b[0m device \u001b[38;5;241m=\u001b[39m \u001b[43mcwusb\u001b[49m\u001b[38;5;241;43m.\u001b[39;49m\u001b[43mfind\u001b[49m\u001b[43m(\u001b[49m\u001b[43mserial_number\u001b[49m\u001b[38;5;241;43m=\u001b[39;49m\u001b[43msn\u001b[49m\u001b[43m,\u001b[49m\u001b[43m \u001b[49m\u001b[43midProduct\u001b[49m\u001b[38;5;241;43m=\u001b[39;49m\u001b[43mpossible_ids\u001b[49m\u001b[43m,\u001b[49m\u001b[43m \u001b[49m\u001b[43mhw_location\u001b[49m\u001b[38;5;241;43m=\u001b[39;49m\u001b[43mhw_location\u001b[49m\u001b[43m)\u001b[49m\n\u001b[1;32m    579\u001b[0m name \u001b[38;5;241m=\u001b[39m device\u001b[38;5;241m.\u001b[39mgetProduct()\n\u001b[1;32m    580\u001b[0m cwusb\u001b[38;5;241m.\u001b[39musb_ctx\u001b[38;5;241m.\u001b[39mclose()\n",
      "File \u001b[0;32m~/git/cw_trimmed/software/chipwhisperer/hardware/naeusb/naeusb.py:415\u001b[0m, in \u001b[0;36mNAEUSB_Backend.find\u001b[0;34m(self, serial_number, idProduct, hw_location)\u001b[0m\n\u001b[1;32m    413\u001b[0m dev_list \u001b[38;5;241m=\u001b[39m \u001b[38;5;28mself\u001b[39m\u001b[38;5;241m.\u001b[39mget_possible_devices(idProduct, attempt_access\u001b[38;5;241m=\u001b[39m(\u001b[38;5;129;01mnot\u001b[39;00m hw_location))\n\u001b[1;32m    414\u001b[0m \u001b[38;5;28;01mif\u001b[39;00m \u001b[38;5;28mlen\u001b[39m(dev_list) \u001b[38;5;241m==\u001b[39m \u001b[38;5;241m0\u001b[39m:\n\u001b[0;32m--> 415\u001b[0m     \u001b[38;5;28;01mraise\u001b[39;00m \u001b[38;5;167;01mOSError\u001b[39;00m(\u001b[38;5;124m\"\u001b[39m\u001b[38;5;124mCould not find ChipWhisperer. Is it connected?\u001b[39m\u001b[38;5;124m\"\u001b[39m)\n\u001b[1;32m    417\u001b[0m \u001b[38;5;66;03m# if more than one CW, we require a serial number\u001b[39;00m\n\u001b[1;32m    418\u001b[0m \u001b[38;5;28;01mif\u001b[39;00m hw_location:\n",
      "\u001b[0;31mOSError\u001b[0m: Could not find ChipWhisperer. Is it connected?"
     ]
    }
   ],
   "source": [
    "%run 'connect.ipynb'\n",
    "cw.scope_logger.setLevel(cw.logging.WARNING) # turn warnings back on"
   ]
  },
  {
   "cell_type": "markdown",
   "id": "95dba8d9-de80-4988-a25f-5a78cf8481da",
   "metadata": {},
   "source": [
    "There are different ways to get multiple triggers. With the `simpleserial-aes` firmware, the easiest is to use the `'n'` and `'f'` commands so that sending a single plaintext triggers multiple encryptions, each of which raises and lowers the `TIO4` trigger line.\n",
    "\n",
    "Let's trigger 4 encryptions:"
   ]
  },
  {
   "cell_type": "code",
   "execution_count": null,
   "id": "0ce75dc9-d942-43ee-81c3-2d521e4dc0e4",
   "metadata": {},
   "outputs": [],
   "source": [
    "NUM_ENCRYPTIONS = 4\n",
    "scope.adc.samples = 98000\n",
    "target.simpleserial_write('n', list(int.to_bytes(NUM_ENCRYPTIONS, length=2, byteorder='big'))) # set the number of encryptions\n",
    "target.simpleserial_wait_ack()\n",
    "\n",
    "scope.arm()\n",
    "target.simpleserial_write('f', bytearray(16)) # trigger the encryptions\n",
    "ret = scope.capture(poll_done=True)\n",
    "wave = scope.get_last_trace()\n",
    "resp = target.simpleserial_read('r', 16)"
   ]
  },
  {
   "cell_type": "markdown",
   "id": "1c8b71d7-1279-4d86-a10d-04ebd88e63fd",
   "metadata": {},
   "source": [
    "Note that here a \"segmenting error\" is normal and expected because triggers occurs while the capture is still ongoing."
   ]
  },
  {
   "cell_type": "code",
   "execution_count": null,
   "id": "41f3bdb9-0b4e-4c7b-b9bb-a1ee6cbb85a5",
   "metadata": {},
   "outputs": [],
   "source": [
    "scope.adc.errors"
   ]
  },
  {
   "cell_type": "code",
   "execution_count": null,
   "id": "d9f81592-2435-49ed-a667-6550ff66994b",
   "metadata": {},
   "outputs": [],
   "source": [
    "scope.errors.clear()"
   ]
  },
  {
   "cell_type": "markdown",
   "id": "58be39e1-a3c4-4145-8e16-165a9be93a07",
   "metadata": {},
   "source": [
    "Now we read the timestamps for the triggers (relative to the first trigger). Since the target triggered 4 times, we should get 3 timestamps, and they should all be evenly spaced.\n",
    "\n",
    "Timestamps are measured with the ADC sampling clock."
   ]
  },
  {
   "cell_type": "code",
   "execution_count": null,
   "id": "b5e24830-28d5-4fbc-bbed-79a7077634d6",
   "metadata": {},
   "outputs": [],
   "source": [
    "ttimes = scope.trigger.get_trigger_times()"
   ]
  },
  {
   "cell_type": "code",
   "execution_count": null,
   "id": "cfa97911-f150-4b18-b22a-ffa99d021cf3",
   "metadata": {},
   "outputs": [],
   "source": [
    "print(ttimes)"
   ]
  },
  {
   "cell_type": "code",
   "execution_count": null,
   "id": "34101735-a9e4-47f7-9bc0-7439db741b2d",
   "metadata": {},
   "outputs": [],
   "source": [
    "assert len(ttimes) == 3\n",
    "for t in range(1, len(ttimes)):\n",
    "    assert ttimes[t] == ttimes[0]"
   ]
  },
  {
   "cell_type": "markdown",
   "id": "4fa95340-d079-47fe-acc0-43f9aaae838c",
   "metadata": {},
   "source": [
    "While this example is not terribly helpful, you could adapt it to learn, for example, when a particular portion of the AES round occurs, by raising the trigger line every time (for example) that the mixcolumns operation is executed."
   ]
  },
  {
   "cell_type": "code",
   "execution_count": null,
   "id": "ea9d06c2-b813-4b05-9fc2-5f379bbd68d2",
   "metadata": {},
   "outputs": [],
   "source": [
    "assert not scope.adc.errors, scope.adc.errors"
   ]
  },
  {
   "cell_type": "code",
   "execution_count": null,
   "id": "846fe733-8d9f-4563-a6f7-310ac41d99c1",
   "metadata": {},
   "outputs": [],
   "source": []
  }
 ],
 "metadata": {
  "kernelspec": {
   "display_name": "Python (venv39)",
   "language": "python",
   "name": "venv39"
  },
  "language_info": {
   "codemirror_mode": {
    "name": "ipython",
    "version": 3
   },
   "file_extension": ".py",
   "mimetype": "text/x-python",
   "name": "python",
   "nbconvert_exporter": "python",
   "pygments_lexer": "ipython3",
   "version": "3.9.7"
  }
 },
 "nbformat": 4,
 "nbformat_minor": 5
}