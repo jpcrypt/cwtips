{
 "cells": [
  {
   "cell_type": "code",
   "execution_count": 1,
   "id": "a8dd155f-d76a-4661-94d6-c84016b88a2e",
   "metadata": {},
   "outputs": [],
   "source": [
    "%run 'connect.ipynb'\n",
    "cw.scope_logger.setLevel(cw.logging.WARNING) # turn warnings back on"
   ]
  },
  {
   "cell_type": "code",
   "execution_count": 2,
   "id": "7a7b4e14-d71a-48a4-b41c-94ef0dce32fc",
   "metadata": {},
   "outputs": [
    {
     "name": "stdout",
     "output_type": "stream",
     "text": [
      "Clock: 7370129.870130 MHz\n",
      "Baud: 38400 bps\n"
     ]
    }
   ],
   "source": [
    "CLOCK = scope.clock.clkgen_freq\n",
    "BAUD = target.baud\n",
    "print('Clock: %f MHz\\nBaud: %d bps' % (CLOCK, BAUD))"
   ]
  },
  {
   "cell_type": "code",
   "execution_count": 3,
   "id": "c3655406-b1e6-4e11-88c4-accf2cadf7a0",
   "metadata": {},
   "outputs": [],
   "source": [
    "trace = cw.capture_trace(scope, target, bytearray(16), bytearray(16))"
   ]
  },
  {
   "cell_type": "code",
   "execution_count": 4,
   "id": "d03859cd-bee1-4815-9e07-19622e00ce62",
   "metadata": {},
   "outputs": [],
   "source": [
    "NEWCLOCK = 12e6\n",
    "scope.clock.clkgen_freq = NEWCLOCK\n",
    "target.baud = BAUD * NEWCLOCK / CLOCK"
   ]
  },
  {
   "cell_type": "code",
   "execution_count": 5,
   "id": "c4779192-3614-4911-9ff1-843367ab1e85",
   "metadata": {},
   "outputs": [],
   "source": [
    "trace = cw.capture_trace(scope, target, bytearray(16), bytearray(16))"
   ]
  },
  {
   "cell_type": "code",
   "execution_count": 6,
   "id": "ea9d06c2-b813-4b05-9fc2-5f379bbd68d2",
   "metadata": {},
   "outputs": [],
   "source": [
    "assert not scope.adc.errors, scope.adc.errors"
   ]
  },
  {
   "cell_type": "code",
   "execution_count": null,
   "id": "846fe733-8d9f-4563-a6f7-310ac41d99c1",
   "metadata": {},
   "outputs": [],
   "source": []
  }
 ],
 "metadata": {
  "kernelspec": {
   "display_name": "Python (venv39)",
   "language": "python",
   "name": "python3"
  },
  "language_info": {
   "codemirror_mode": {
    "name": "ipython",
    "version": 3
   },
   "file_extension": ".py",
   "mimetype": "text/x-python",
   "name": "python",
   "nbconvert_exporter": "python",
   "pygments_lexer": "ipython3",
   "version": "3.9.7"
  }
 },
 "nbformat": 4,
 "nbformat_minor": 5
}
