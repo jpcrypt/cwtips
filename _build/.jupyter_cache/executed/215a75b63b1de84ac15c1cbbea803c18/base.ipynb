{
 "cells": [
  {
   "cell_type": "code",
   "execution_count": 1,
   "id": "a8dd155f-d76a-4661-94d6-c84016b88a2e",
   "metadata": {},
   "outputs": [],
   "source": [
    "%run 'connect.ipynb'\n",
    "cw.scope_logger.setLevel(cw.logging.WARNING) # turn warnings back on"
   ]
  },
  {
   "cell_type": "code",
   "execution_count": 2,
   "id": "83ff2e64-8ea5-4f4c-a49e-c0d78026f91e",
   "metadata": {},
   "outputs": [],
   "source": [
    "if scope._is_husky:\n",
    "    scope.clock.adc_mul = 1\n",
    "else: # Pro\n",
    "    scope.clock.adc_src = 'clkgen_x1'"
   ]
  },
  {
   "cell_type": "code",
   "execution_count": 3,
   "id": "1956f37c-b1b2-46e6-8d89-ba3f15efde29",
   "metadata": {},
   "outputs": [],
   "source": [
    "scope.adc.stream_mode = True\n",
    "scope.adc.samples = int(1e6)"
   ]
  },
  {
   "cell_type": "code",
   "execution_count": 4,
   "id": "c3655406-b1e6-4e11-88c4-accf2cadf7a0",
   "metadata": {},
   "outputs": [],
   "source": [
    "trace = cw.capture_trace(scope, target, bytearray(16), bytearray(16))"
   ]
  },
  {
   "cell_type": "code",
   "execution_count": 5,
   "id": "6d9183db-b2ca-4d3a-b95f-77f4a1196510",
   "metadata": {},
   "outputs": [
    {
     "name": "stdout",
     "output_type": "stream",
     "text": [
      "sam_errors      = False\n",
      "sam_led_setting = Default\n",
      "XADC errors     = False\n",
      "ADC errors      = False\n",
      "extclk error    = False\n",
      "trace errors    = False\n",
      "\n"
     ]
    }
   ],
   "source": [
    "print(scope.errors)"
   ]
  },
  {
   "cell_type": "code",
   "execution_count": 6,
   "id": "de593a82-4294-4108-9c0b-452403943f47",
   "metadata": {},
   "outputs": [],
   "source": [
    "scope.adc.timeout = 3\n",
    "scope.adc.samples = int(20e6)\n",
    "trace = cw.capture_trace(scope, target, bytearray(16), bytearray(16))"
   ]
  },
  {
   "cell_type": "code",
   "execution_count": 7,
   "id": "eabe713e-4781-4b09-ac39-7d50ea00cdc9",
   "metadata": {},
   "outputs": [],
   "source": [
    "if scope._is_husky:\n",
    "    scope.clock.adc_mul = 4\n",
    "else: # Pro\n",
    "    scope.clock.adc_src = 'clkgen_x4'"
   ]
  },
  {
   "cell_type": "code",
   "execution_count": 8,
   "id": "6bef0907-5972-4f12-8316-586f170a13d1",
   "metadata": {},
   "outputs": [],
   "source": [
    "scope.adc.timeout = 1\n",
    "scope.adc.samples = 150000\n",
    "trace = cw.capture_trace(scope, target, bytearray(16), bytearray(16))"
   ]
  },
  {
   "cell_type": "code",
   "execution_count": 9,
   "id": "e5bab0ab-489b-4cf1-a37c-76b4a47bfb6a",
   "metadata": {},
   "outputs": [],
   "source": [
    "scope.adc.bits_per_sample = 8"
   ]
  },
  {
   "cell_type": "code",
   "execution_count": 10,
   "id": "ea9d06c2-b813-4b05-9fc2-5f379bbd68d2",
   "metadata": {},
   "outputs": [],
   "source": [
    "assert not scope.adc.errors, scope.adc.errors"
   ]
  },
  {
   "cell_type": "code",
   "execution_count": null,
   "id": "03f46f16-6626-47f3-93ce-545d104834a6",
   "metadata": {},
   "outputs": [],
   "source": []
  }
 ],
 "metadata": {
  "kernelspec": {
   "display_name": "Python (venv39)",
   "language": "python",
   "name": "python3"
  },
  "language_info": {
   "codemirror_mode": {
    "name": "ipython",
    "version": 3
   },
   "file_extension": ".py",
   "mimetype": "text/x-python",
   "name": "python",
   "nbconvert_exporter": "python",
   "pygments_lexer": "ipython3",
   "version": "3.9.7"
  }
 },
 "nbformat": 4,
 "nbformat_minor": 5
}
