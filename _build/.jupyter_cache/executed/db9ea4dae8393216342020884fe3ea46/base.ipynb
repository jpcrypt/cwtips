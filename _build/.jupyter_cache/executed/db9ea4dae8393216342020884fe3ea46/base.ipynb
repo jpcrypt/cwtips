{
 "cells": [
  {
   "cell_type": "code",
   "execution_count": 1,
   "id": "f7e5a029",
   "metadata": {},
   "outputs": [],
   "source": [
    "import chipwhisperer as cw\n",
    "scope = cw.scope(name='Husky')\n",
    "scope.errors.clear()\n",
    "scope.default_setup(verbose=False)\n",
    "target = cw.target(scope, cw.targets.SimpleSerial)"
   ]
  },
  {
   "cell_type": "code",
   "execution_count": 2,
   "id": "c66128fc",
   "metadata": {},
   "outputs": [],
   "source": [
    "trace = cw.capture_trace(scope, target, bytearray(16), bytearray(16))"
   ]
  },
  {
   "cell_type": "code",
   "execution_count": 3,
   "id": "1b6ded2d",
   "metadata": {},
   "outputs": [
    {
     "name": "stdout",
     "output_type": "stream",
     "text": [
      "31864\n"
     ]
    }
   ],
   "source": [
    "print(scope.adc.trig_count)"
   ]
  },
  {
   "cell_type": "code",
   "execution_count": 4,
   "id": "f79385e8",
   "metadata": {},
   "outputs": [
    {
     "name": "stdout",
     "output_type": "stream",
     "text": [
      "False\n"
     ]
    }
   ],
   "source": [
    "print(scope.adc.errors)\n",
    "assert not scope.adc.errors"
   ]
  }
 ],
 "metadata": {
  "jupytext": {
   "cell_metadata_filter": "-all",
   "formats": "md:myst",
   "text_representation": {
    "extension": ".md",
    "format_name": "myst",
    "format_version": 0.13,
    "jupytext_version": "1.16.6"
   }
  },
  "kernelspec": {
   "display_name": "Python (venv39)",
   "language": "python",
   "name": "venv39"
  },
  "language_info": {
   "codemirror_mode": {
    "name": "ipython",
    "version": 3
   },
   "file_extension": ".py",
   "mimetype": "text/x-python",
   "name": "python",
   "nbconvert_exporter": "python",
   "pygments_lexer": "ipython3",
   "version": "3.9.7"
  },
  "source_map": [
   14,
   20,
   26,
   29,
   31,
   35,
   37,
   42
  ]
 },
 "nbformat": 4,
 "nbformat_minor": 5
}